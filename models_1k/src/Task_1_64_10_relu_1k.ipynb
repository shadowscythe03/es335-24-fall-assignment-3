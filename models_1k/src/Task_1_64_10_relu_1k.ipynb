{
  "cells": [
    {
      "cell_type": "code",
      "execution_count": 1,
      "metadata": {
        "id": "Rnd08zzRHwRo",
        "colab": {
          "base_uri": "https://localhost:8080/"
        },
        "outputId": "15137c34-1f74-43e9-99c8-08a0d031c903"
      },
      "outputs": [
        {
          "output_type": "stream",
          "name": "stdout",
          "text": [
            "Mounted at /content/drive\n"
          ]
        }
      ],
      "source": [
        "from google.colab import drive\n",
        "drive.mount('/content/drive')"
      ]
    },
    {
      "cell_type": "code",
      "execution_count": 2,
      "metadata": {
        "id": "6RDRN_-nY1zK"
      },
      "outputs": [],
      "source": [
        "import os\n",
        "import re\n",
        "# !pip install torch #installing the module\n",
        "import torch\n",
        "import torch.nn.functional as F\n",
        "from torch import nn\n",
        "import pandas as pd\n",
        "import matplotlib.pyplot as plt # for making figures\n",
        "%matplotlib inline\n",
        "%config InlineBackend.figure_format = 'retina'\n",
        "from pprint import pprint"
      ]
    },
    {
      "cell_type": "code",
      "execution_count": 2,
      "metadata": {
        "id": "yH94S_b8vZvf"
      },
      "outputs": [],
      "source": []
    },
    {
      "cell_type": "code",
      "execution_count": 3,
      "metadata": {
        "id": "U8KTyavfY1zL"
      },
      "outputs": [],
      "source": [
        "device = torch.device(\"cuda\" if torch.cuda.is_available() else \"cpu\")"
      ]
    },
    {
      "cell_type": "code",
      "execution_count": 4,
      "metadata": {
        "colab": {
          "base_uri": "https://localhost:8080/"
        },
        "id": "0lYGqdvNY1zL",
        "outputId": "81d78ac9-e3fe-448e-887e-f9238c95f84d"
      },
      "outputs": [
        {
          "output_type": "execute_result",
          "data": {
            "text/plain": [
              "device(type='cuda')"
            ]
          },
          "metadata": {},
          "execution_count": 4
        }
      ],
      "source": [
        "device"
      ]
    },
    {
      "cell_type": "code",
      "execution_count": 5,
      "metadata": {
        "id": "bqGRxwmnY1zM"
      },
      "outputs": [],
      "source": [
        "# folder_path = r'./Taylor-Swift-Songs'\n",
        "\n",
        "# # Loop through all files in the folder\n",
        "# songs = []\n",
        "\n",
        "# for file_name in os.listdir(folder_path):\n",
        "#     if file_name.endswith('.txt'):  # Check if the file is a .txt file\n",
        "#         file_path = os.path.join(folder_path, file_name)\n",
        "#         # Open and read the file\n",
        "\n",
        "#         with open(file_path, 'r', encoding='utf-8') as file:\n",
        "\n",
        "#             file_content = file.read()\n",
        "#             songs.append(file_content)\n"
      ]
    },
    {
      "cell_type": "code",
      "execution_count": 6,
      "metadata": {
        "colab": {
          "base_uri": "https://localhost:8080/"
        },
        "id": "GObPeK5vY1zM",
        "outputId": "50408ec5-d7bc-48e0-a47e-cbd3ef24f182"
      },
      "outputs": [
        {
          "output_type": "stream",
          "name": "stdout",
          "text": [
            "\n",
            "Length of para list: 2605\n"
          ]
        }
      ],
      "source": [
        "import requests\n",
        "\n",
        "# URL of the text file\n",
        "url_2 = \"https://www.gutenberg.org/files/1661/1661-0.txt\"\n",
        "\n",
        "# Send a GET request to fetch the content\n",
        "response = requests.get(url_2)\n",
        "\n",
        "# Check if the request was successful\n",
        "if response.status_code == 200:\n",
        "    # Read the entire content of the file\n",
        "    content = response.text\n",
        "\n",
        "    # Remove the BOM if it exists\n",
        "    content = content.replace('\\ufeff', '')  # Remove BOM character\n",
        "\n",
        "    # Split the content into paragraphs by using '\\r\\n\\r\\n'\n",
        "    paragraphs = content.split('\\r\\n\\r\\n')\n",
        "\n",
        "    # Initialize para list\n",
        "    para = []\n",
        "\n",
        "    # Store paragraphs in the para list\n",
        "    for paragraph in paragraphs:\n",
        "        cleaned_paragraph = paragraph.strip()\n",
        "        if cleaned_paragraph:  # Only add non-empty paragraphs\n",
        "            para.append(cleaned_paragraph)\n",
        "\n",
        "    # Print the length of the para list\n",
        "    print(f\"\\nLength of para list: {len(para)}\")\n",
        "\n",
        "    # # Optional: Print the first few paragraphs to verify\n",
        "    # for i in range(min(5, len(para))):  # Print the first 5 paragraphs\n",
        "    #     print(f\"\\nParagraph {i + 1}:\\n{para[i]}\\n\")\n",
        "else:\n",
        "    print(f\"Failed to fetch the file. Status code: {response.status_code}\")"
      ]
    },
    {
      "cell_type": "code",
      "execution_count": 7,
      "metadata": {
        "colab": {
          "base_uri": "https://localhost:8080/",
          "height": 35
        },
        "id": "oagoolbRY1zN",
        "outputId": "b16a1879-5a5e-4d3f-d916-747438239dda"
      },
      "outputs": [
        {
          "output_type": "execute_result",
          "data": {
            "text/plain": [
              "'The Project Gutenberg eBook of The Adventures of Sherlock Holmes,\\r\\nby Arthur Conan Doyle'"
            ],
            "application/vnd.google.colaboratory.intrinsic+json": {
              "type": "string"
            }
          },
          "metadata": {},
          "execution_count": 7
        }
      ],
      "source": [
        "para[0]"
      ]
    },
    {
      "cell_type": "code",
      "execution_count": 8,
      "metadata": {
        "id": "WGqyuRXyY1zN"
      },
      "outputs": [],
      "source": [
        "# Removing the first line in the song\n",
        "# Replacing the '\\n' with '<NEWLINE> token'\n",
        "\n",
        "unique_words = set()\n",
        "for i in range(len(para)):\n",
        "    lines = para[i].splitlines()\n",
        "    for j in range(len(lines)):\n",
        "        # print(j,lines[j])\n",
        "        lines[j] = re.sub(r'[^a-zA-Z0-9 \\.]', '', lines[j])\n",
        "        lines[j] = lines[j].lower()\n",
        "    para[i] = \" \".join(lines[1:])\n",
        "    song_unique_words = set(word.lower() for word in para[i].split())\n",
        "    unique_words.update(song_unique_words)\n",
        "\n",
        "    # print(len(song_unique_words))\n",
        "    unique_words.update(\".\")\n"
      ]
    },
    {
      "cell_type": "code",
      "execution_count": 9,
      "metadata": {
        "colab": {
          "base_uri": "https://localhost:8080/"
        },
        "id": "R-hWtXNBY1zN",
        "outputId": "fb95aa45-c19d-4c74-9cbc-4d0ef2d043b4"
      },
      "outputs": [
        {
          "output_type": "execute_result",
          "data": {
            "text/plain": [
              "9358"
            ]
          },
          "metadata": {},
          "execution_count": 9
        }
      ],
      "source": [
        "\n",
        "sorted_unique_words = sorted(unique_words)\n",
        "Vocabulary = {word : index for index, word in enumerate(sorted_unique_words)}\n",
        "iVocabulary = {index: word for index, word in enumerate(sorted_unique_words)}\n",
        "len(Vocabulary)"
      ]
    },
    {
      "cell_type": "code",
      "execution_count": 10,
      "metadata": {
        "colab": {
          "base_uri": "https://localhost:8080/"
        },
        "id": "0XKuXrUTY1zN",
        "outputId": "c9ed9a89-3d24-4d14-8993-274d886156c7"
      },
      "outputs": [
        {
          "output_type": "execute_result",
          "data": {
            "text/plain": [
              "2605"
            ]
          },
          "metadata": {},
          "execution_count": 10
        }
      ],
      "source": [
        "len(para)"
      ]
    },
    {
      "cell_type": "code",
      "execution_count": 11,
      "metadata": {
        "colab": {
          "base_uri": "https://localhost:8080/",
          "height": 70
        },
        "id": "U2ZmQGOgY1zN",
        "outputId": "9570abb8-9705-4821-f07d-8a111f3175c4"
      },
      "outputs": [
        {
          "output_type": "execute_result",
          "data": {
            "text/plain": [
              "'most other parts of the world at no cost and with almost no restrictions whatsoever. you may copy it give it away or reuse it under the terms of the project gutenberg license included with this ebook or online at www.gutenberg.org. if you are not located in the united states you will have to check the laws of the country where you are located before using this ebook.'"
            ],
            "application/vnd.google.colaboratory.intrinsic+json": {
              "type": "string"
            }
          },
          "metadata": {},
          "execution_count": 11
        }
      ],
      "source": [
        "para[1]"
      ]
    },
    {
      "cell_type": "code",
      "execution_count": 12,
      "metadata": {
        "id": "Pwwc25g2Y1zN"
      },
      "outputs": [],
      "source": [
        "def generate_X_Y(para,block_size):\n",
        "\n",
        "   # context length: how many characters do we take to predict the next one?\n",
        "  X, Y = [], []\n",
        "\n",
        "  for paragraph in para:\n",
        "\n",
        "    # print(song)\n",
        "    context = [0] * block_size\n",
        "    p = paragraph.split(' ')\n",
        "    for word in p + ['.']:\n",
        "      if word == '':\n",
        "        continue\n",
        "      # print(word)\n",
        "      ix = Vocabulary[word]\n",
        "      X.append(context)\n",
        "      Y.append(ix)\n",
        "      # print(' '.join('.' if not i else iVocabulary[i] for i in context), '--->', iVocabulary[ix])\n",
        "      context = context[1:] + [ix] # crop and append\n",
        "\n",
        "  # Move data to GPU\n",
        "\n",
        "  X = torch.tensor(X).to(device)\n",
        "  Y = torch.tensor(Y).to(device)\n",
        "\n",
        "  return X,Y"
      ]
    },
    {
      "cell_type": "code",
      "execution_count": 13,
      "metadata": {
        "id": "r5aO7H7JY1zO"
      },
      "outputs": [],
      "source": [
        "emb_dim = 64\n",
        "emb = torch.nn.Embedding(len(Vocabulary), emb_dim)"
      ]
    },
    {
      "cell_type": "code",
      "execution_count": 14,
      "metadata": {
        "colab": {
          "base_uri": "https://localhost:8080/"
        },
        "id": "DYaJ86utY1zO",
        "outputId": "4b536361-aaaf-48ff-a1a8-eeefc6d63d3f"
      },
      "outputs": [
        {
          "output_type": "execute_result",
          "data": {
            "text/plain": [
              "Parameter containing:\n",
              "tensor([[-1.5018e+00,  1.4221e-01, -2.3713e+00,  ...,  1.4872e-01,\n",
              "          6.5484e-01, -1.3691e-01],\n",
              "        [-1.0431e+00, -1.1797e+00,  1.4827e-01,  ...,  1.9362e+00,\n",
              "          7.6191e-01, -5.7674e-01],\n",
              "        [-1.6571e-01,  5.6558e-01,  5.5599e-01,  ...,  2.6148e-01,\n",
              "          1.9348e+00,  2.5524e-03],\n",
              "        ...,\n",
              "        [-4.8749e-01,  4.2152e-01, -4.9363e-01,  ..., -2.1752e-01,\n",
              "          8.0803e-01, -3.6052e-01],\n",
              "        [ 3.2963e+00,  1.2097e+00, -1.5804e+00,  ...,  1.4619e+00,\n",
              "         -1.7710e-02,  8.5550e-01],\n",
              "        [-8.9297e-02, -1.0655e-01,  1.7920e+00,  ..., -2.2982e-02,\n",
              "          7.1087e-01, -7.0415e-01]], requires_grad=True)"
            ]
          },
          "metadata": {},
          "execution_count": 14
        }
      ],
      "source": [
        "emb.weight"
      ]
    },
    {
      "cell_type": "code",
      "execution_count": 15,
      "metadata": {
        "colab": {
          "base_uri": "https://localhost:8080/"
        },
        "id": "evH4OgWoY1zO",
        "outputId": "350afe5b-d502-4cf6-beea-efc894e8a0cd"
      },
      "outputs": [
        {
          "output_type": "execute_result",
          "data": {
            "text/plain": [
              "torch.Size([9358, 64])"
            ]
          },
          "metadata": {},
          "execution_count": 15
        }
      ],
      "source": [
        "emb.weight.shape"
      ]
    },
    {
      "cell_type": "code",
      "execution_count": 16,
      "metadata": {
        "id": "4Mnp_ET6Y1zO"
      },
      "outputs": [],
      "source": [
        "class NextWord(nn.Module):\n",
        "    def __init__(self,block_size,vocab_size,emb_dim,hidden_size):\n",
        "        super().__init__()\n",
        "        self.emb = nn.Embedding(vocab_size,emb_dim)\n",
        "        self.lin1 = nn.Linear(block_size*emb_dim,hidden_size)\n",
        "        self.lin2 = nn.Linear(hidden_size,vocab_size)\n",
        "        self.relu = nn.ReLU()\n",
        "\n",
        "    def forward(self, x):\n",
        "        x = self.emb(x)\n",
        "        x = x.view(x.shape[0],-1)\n",
        "        x = self.relu(self.lin1(x))\n",
        "        x = self.lin2(x)\n",
        "        return x"
      ]
    },
    {
      "cell_type": "code",
      "execution_count": 17,
      "metadata": {
        "id": "WYPFEU3tEgh9"
      },
      "outputs": [],
      "source": [
        "block_size = 10\n",
        "vocab_size = len(Vocabulary)\n",
        "emb_dim = 64\n",
        "hidden_size = 1024"
      ]
    },
    {
      "cell_type": "code",
      "execution_count": 18,
      "metadata": {
        "id": "S5kFPR-TY1zO"
      },
      "outputs": [],
      "source": [
        "\n",
        "def generate_para(model,Vocabulary,block_size,max_len=30):\n",
        "    context = [0]*block_size\n",
        "    new_para  = ''\n",
        "    for i in range(max_len):\n",
        "        x = torch.tensor(context).view(1,-1).to(device)\n",
        "        y_pred = model(x)\n",
        "        ix = torch.distributions.categorical.Categorical(logits=y_pred).sample().item()\n",
        "        word = iVocabulary[ix]\n",
        "        if word == '.':\n",
        "            break\n",
        "        new_para = new_para + \" \"+word\n",
        "        context =context[1:]+[ix]\n",
        "    return new_para\n",
        "\n"
      ]
    },
    {
      "cell_type": "code",
      "execution_count": 19,
      "metadata": {
        "id": "BFf3EwoJEixF"
      },
      "outputs": [],
      "source": [
        "def models(block_size,vocab_size,emb_dim,hidden_size):\n",
        "    model = NextWord(block_size,vocab_size,emb_dim,hidden_size).to(device)\n",
        "    return model\n",
        "\n",
        "# model = torch.compile(model)\n",
        "\n"
      ]
    },
    {
      "cell_type": "code",
      "execution_count": 20,
      "metadata": {
        "id": "EbeWEGL8FXtH"
      },
      "outputs": [],
      "source": [
        "# allmodels = {}\n",
        "# for emdDim in [64,128]:\n",
        "#   for context_len in [4,8,10,45]:\n",
        "#     m = models(context_len,len(Vocabulary),emdDim,1024,para)\n",
        "#     allmodels[str(context_len)+\"_\"+str(emdDim)] = m\n",
        "\n",
        "\n",
        "\n",
        "model = models(block_size,len(Vocabulary),emb_dim,hidden_size)"
      ]
    },
    {
      "cell_type": "code",
      "execution_count": 21,
      "metadata": {
        "colab": {
          "base_uri": "https://localhost:8080/"
        },
        "id": "VnfyHN23G7ME",
        "outputId": "e878145f-22ab-467a-c3b9-a0389ab2e714"
      },
      "outputs": [
        {
          "output_type": "stream",
          "name": "stdout",
          "text": [
            "0 8.337945938110352\n",
            "100 0.36046159267425537\n",
            "200 0.4542274475097656\n",
            "300 0.4271676540374756\n",
            "400 0.405972957611084\n",
            "500 0.3543098568916321\n",
            "600 0.37781891226768494\n",
            "700 0.375927209854126\n",
            "800 0.43646275997161865\n",
            "900 0.4213345944881439\n"
          ]
        }
      ],
      "source": [
        "import time\n",
        "# for model_key, model_z in allmodels.items():\n",
        "# block_size, emb_dim = map(int, model_key.split('_'))\n",
        "X,Y = generate_X_Y(para,block_size)\n",
        "loss_fn = nn.CrossEntropyLoss()\n",
        "opt = torch.optim.AdamW(model.parameters(), lr=0.01)\n",
        "# Mini-batch training\n",
        "batch_size = 512\n",
        "print_every = 100\n",
        "elapsed_time = []\n",
        "# print(block_size,\" \",emb_dim)\n",
        "epochs = 1000\n",
        "for epoch in range(epochs):\n",
        "    start_time = time.time()\n",
        "    for i in range(0, X.shape[0], batch_size):\n",
        "        x = X[i:i+batch_size]\n",
        "        y = Y[i:i+batch_size]\n",
        "        y_pred = model(x)\n",
        "        loss = loss_fn(y_pred, y)\n",
        "        loss.backward()\n",
        "        opt.step()\n",
        "        opt.zero_grad()\n",
        "    end_time = time.time()\n",
        "    elapsed_time.append(end_time - start_time)\n",
        "    if epoch % print_every == 0:\n",
        "        print(epoch, loss.item())\n"
      ]
    },
    {
      "cell_type": "code",
      "execution_count": 22,
      "metadata": {
        "id": "Rnd6e64Ik9v1",
        "colab": {
          "base_uri": "https://localhost:8080/"
        },
        "outputId": "5546f773-8a64-4dfa-be3a-f44621af7a65"
      },
      "outputs": [
        {
          "output_type": "stream",
          "name": "stdout",
          "text": [
            "Model saved to /content/drive/MyDrive/model_64_10_relu.pth\n"
          ]
        }
      ],
      "source": [
        "# Path to save the model in your Drive\n",
        "model_path = f'/content/drive/MyDrive/model_{emb_dim}_{block_size}_relu.pth'\n",
        "\n",
        "# Save the state dictionary\n",
        "torch.save(model.state_dict(), model_path)\n",
        "\n",
        "print(f\"Model saved to {model_path}\")"
      ]
    },
    {
      "cell_type": "code",
      "execution_count": 23,
      "metadata": {
        "id": "3IuS7bhxyJCU",
        "colab": {
          "base_uri": "https://localhost:8080/"
        },
        "outputId": "edf3d718-4bd4-4ca2-9aba-c20b368f6a6f"
      },
      "outputs": [
        {
          "output_type": "stream",
          "name": "stderr",
          "text": [
            "<ipython-input-23-5cd1c7626d62>:5: FutureWarning: You are using `torch.load` with `weights_only=False` (the current default value), which uses the default pickle module implicitly. It is possible to construct malicious pickle data which will execute arbitrary code during unpickling (See https://github.com/pytorch/pytorch/blob/main/SECURITY.md#untrusted-models for more details). In a future release, the default value for `weights_only` will be flipped to `True`. This limits the functions that could be executed during unpickling. Arbitrary objects will no longer be allowed to be loaded via this mode unless they are explicitly allowlisted by the user via `torch.serialization.add_safe_globals`. We recommend you start setting `weights_only=True` for any use case where you don't have full control of the loaded file. Please open an issue on GitHub for any issues related to this experimental feature.\n",
            "  loaded_model.load_state_dict(torch.load(model_path, map_location=device))\n"
          ]
        },
        {
          "output_type": "execute_result",
          "data": {
            "text/plain": [
              "<All keys matched successfully>"
            ]
          },
          "metadata": {},
          "execution_count": 23
        }
      ],
      "source": [
        "loaded_model = NextWord(block_size, vocab_size, emb_dim, hidden_size).to(device)\n",
        "\n",
        "# Load the state dictionary from the file in Google Drive\n",
        "# model_path = '/content/drive/MyDrive/model_64_8_new.pth'\n",
        "loaded_model.load_state_dict(torch.load(model_path, map_location=device))"
      ]
    },
    {
      "cell_type": "code",
      "execution_count": 24,
      "metadata": {
        "id": "T_uZ-xy9yODi",
        "colab": {
          "base_uri": "https://localhost:8080/"
        },
        "outputId": "deb60523-fefb-478f-b140-8d38bb368f93"
      },
      "outputs": [
        {
          "output_type": "stream",
          "name": "stdout",
          "text": [
            " successful. i know that her word is inviolate. the photograph is now as safe when i heard the man of the previous weather away i two the bar solution and\n"
          ]
        }
      ],
      "source": [
        "print(generate_para(model,Vocabulary,block_size))"
      ]
    },
    {
      "cell_type": "code",
      "execution_count": 25,
      "metadata": {
        "id": "65kZgi0nyOlq",
        "colab": {
          "base_uri": "https://localhost:8080/"
        },
        "outputId": "a494db5c-b3e5-4274-9e74-414a84c0f79c"
      },
      "outputs": [
        {
          "output_type": "stream",
          "name": "stdout",
          "text": [
            " your left glove. you must have started early and yet you had a good drive in a dogcart along heavy roads before you reached the station.\n"
          ]
        }
      ],
      "source": [
        "print(generate_para(loaded_model,Vocabulary,block_size))"
      ]
    }
  ],
  "metadata": {
    "accelerator": "GPU",
    "colab": {
      "gpuType": "T4",
      "provenance": []
    },
    "kernelspec": {
      "display_name": "Python 3",
      "name": "python3"
    },
    "language_info": {
      "codemirror_mode": {
        "name": "ipython",
        "version": 3
      },
      "file_extension": ".py",
      "mimetype": "text/x-python",
      "name": "python",
      "nbconvert_exporter": "python",
      "pygments_lexer": "ipython3",
      "version": "3.10.6"
    }
  },
  "nbformat": 4,
  "nbformat_minor": 0
}