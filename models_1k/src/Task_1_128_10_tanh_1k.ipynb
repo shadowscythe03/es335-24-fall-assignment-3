{
  "cells": [
    {
      "cell_type": "code",
      "execution_count": 1,
      "metadata": {
        "colab": {
          "base_uri": "https://localhost:8080/"
        },
        "id": "Rnd08zzRHwRo",
        "outputId": "ab7797d6-23c5-4b31-a1d3-53f9200985bb"
      },
      "outputs": [
        {
          "output_type": "stream",
          "name": "stdout",
          "text": [
            "Mounted at /content/drive\n"
          ]
        }
      ],
      "source": [
        "from google.colab import drive\n",
        "drive.mount('/content/drive')"
      ]
    },
    {
      "cell_type": "code",
      "execution_count": 2,
      "metadata": {
        "colab": {
          "base_uri": "https://localhost:8080/"
        },
        "id": "6RDRN_-nY1zK",
        "outputId": "d5c409e9-4fb7-4049-8065-99c40928fd94"
      },
      "outputs": [
        {
          "output_type": "stream",
          "name": "stdout",
          "text": [
            "Requirement already satisfied: torch in /usr/local/lib/python3.10/dist-packages (2.5.0+cu121)\n",
            "Requirement already satisfied: filelock in /usr/local/lib/python3.10/dist-packages (from torch) (3.16.1)\n",
            "Requirement already satisfied: typing-extensions>=4.8.0 in /usr/local/lib/python3.10/dist-packages (from torch) (4.12.2)\n",
            "Requirement already satisfied: networkx in /usr/local/lib/python3.10/dist-packages (from torch) (3.4.2)\n",
            "Requirement already satisfied: jinja2 in /usr/local/lib/python3.10/dist-packages (from torch) (3.1.4)\n",
            "Requirement already satisfied: fsspec in /usr/local/lib/python3.10/dist-packages (from torch) (2024.6.1)\n",
            "Requirement already satisfied: sympy==1.13.1 in /usr/local/lib/python3.10/dist-packages (from torch) (1.13.1)\n",
            "Requirement already satisfied: mpmath<1.4,>=1.1.0 in /usr/local/lib/python3.10/dist-packages (from sympy==1.13.1->torch) (1.3.0)\n",
            "Requirement already satisfied: MarkupSafe>=2.0 in /usr/local/lib/python3.10/dist-packages (from jinja2->torch) (3.0.2)\n"
          ]
        }
      ],
      "source": [
        "import os\n",
        "import re\n",
        "!pip install torch #installing the module\n",
        "import torch\n",
        "import torch.nn.functional as F\n",
        "from torch import nn\n",
        "import pandas as pd\n",
        "import matplotlib.pyplot as plt # for making figures\n",
        "%matplotlib inline\n",
        "%config InlineBackend.figure_format = 'retina'\n",
        "from pprint import pprint"
      ]
    },
    {
      "cell_type": "code",
      "execution_count": 2,
      "metadata": {
        "id": "yH94S_b8vZvf"
      },
      "outputs": [],
      "source": []
    },
    {
      "cell_type": "code",
      "execution_count": 3,
      "metadata": {
        "id": "U8KTyavfY1zL"
      },
      "outputs": [],
      "source": [
        "device = torch.device(\"cuda\" if torch.cuda.is_available() else \"cpu\")"
      ]
    },
    {
      "cell_type": "code",
      "execution_count": 4,
      "metadata": {
        "colab": {
          "base_uri": "https://localhost:8080/"
        },
        "id": "0lYGqdvNY1zL",
        "outputId": "ec295ce6-583b-46f0-aa99-ebbb9b6fdaf9"
      },
      "outputs": [
        {
          "output_type": "execute_result",
          "data": {
            "text/plain": [
              "device(type='cuda')"
            ]
          },
          "metadata": {},
          "execution_count": 4
        }
      ],
      "source": [
        "device"
      ]
    },
    {
      "cell_type": "code",
      "execution_count": 5,
      "metadata": {
        "id": "bqGRxwmnY1zM"
      },
      "outputs": [],
      "source": [
        "# folder_path = r'./Taylor-Swift-Songs'\n",
        "\n",
        "# # Loop through all files in the folder\n",
        "# songs = []\n",
        "\n",
        "# for file_name in os.listdir(folder_path):\n",
        "#     if file_name.endswith('.txt'):  # Check if the file is a .txt file\n",
        "#         file_path = os.path.join(folder_path, file_name)\n",
        "#         # Open and read the file\n",
        "\n",
        "#         with open(file_path, 'r', encoding='utf-8') as file:\n",
        "\n",
        "#             file_content = file.read()\n",
        "#             songs.append(file_content)\n"
      ]
    },
    {
      "cell_type": "code",
      "execution_count": 6,
      "metadata": {
        "colab": {
          "base_uri": "https://localhost:8080/"
        },
        "id": "GObPeK5vY1zM",
        "outputId": "ca39b28f-4b97-469f-a8ed-231d55ac197f"
      },
      "outputs": [
        {
          "output_type": "stream",
          "name": "stdout",
          "text": [
            "\n",
            "Length of para list: 2605\n"
          ]
        }
      ],
      "source": [
        "import requests\n",
        "\n",
        "# URL of the text file\n",
        "url_2 = \"https://www.gutenberg.org/files/1661/1661-0.txt\"\n",
        "\n",
        "# Send a GET request to fetch the content\n",
        "response = requests.get(url_2)\n",
        "\n",
        "# Check if the request was successful\n",
        "if response.status_code == 200:\n",
        "    # Read the entire content of the file\n",
        "    content = response.text\n",
        "\n",
        "    # Remove the BOM if it exists\n",
        "    content = content.replace('\\ufeff', '')  # Remove BOM character\n",
        "\n",
        "    # Split the content into paragraphs by using '\\r\\n\\r\\n'\n",
        "    paragraphs = content.split('\\r\\n\\r\\n')\n",
        "\n",
        "    # Initialize para list\n",
        "    para = []\n",
        "\n",
        "    # Store paragraphs in the para list\n",
        "    for paragraph in paragraphs:\n",
        "        cleaned_paragraph = paragraph.strip()\n",
        "        if cleaned_paragraph:  # Only add non-empty paragraphs\n",
        "            para.append(cleaned_paragraph)\n",
        "\n",
        "    # Print the length of the para list\n",
        "    print(f\"\\nLength of para list: {len(para)}\")\n",
        "\n",
        "    # # Optional: Print the first few paragraphs to verify\n",
        "    # for i in range(min(5, len(para))):  # Print the first 5 paragraphs\n",
        "    #     print(f\"\\nParagraph {i + 1}:\\n{para[i]}\\n\")\n",
        "else:\n",
        "    print(f\"Failed to fetch the file. Status code: {response.status_code}\")"
      ]
    },
    {
      "cell_type": "code",
      "execution_count": 7,
      "metadata": {
        "colab": {
          "base_uri": "https://localhost:8080/",
          "height": 36
        },
        "id": "oagoolbRY1zN",
        "outputId": "491bc5e2-67c1-4203-df37-ba578838ebde"
      },
      "outputs": [
        {
          "output_type": "execute_result",
          "data": {
            "text/plain": [
              "'The Project Gutenberg eBook of The Adventures of Sherlock Holmes,\\r\\nby Arthur Conan Doyle'"
            ],
            "application/vnd.google.colaboratory.intrinsic+json": {
              "type": "string"
            }
          },
          "metadata": {},
          "execution_count": 7
        }
      ],
      "source": [
        "para[0]"
      ]
    },
    {
      "cell_type": "code",
      "execution_count": 8,
      "metadata": {
        "id": "WGqyuRXyY1zN"
      },
      "outputs": [],
      "source": [
        "# Removing the first line in the song\n",
        "# Replacing the '\\n' with '<NEWLINE> token'\n",
        "\n",
        "unique_words = set()\n",
        "for i in range(len(para)):\n",
        "    lines = para[i].splitlines()\n",
        "    for j in range(len(lines)):\n",
        "        # print(j,lines[j])\n",
        "        lines[j] = re.sub(r'[^a-zA-Z0-9 \\.]', '', lines[j])\n",
        "        lines[j] = lines[j].lower()\n",
        "    para[i] = \" \".join(lines[1:])\n",
        "    song_unique_words = set(word.lower() for word in para[i].split())\n",
        "    unique_words.update(song_unique_words)\n",
        "\n",
        "    # print(len(song_unique_words))\n",
        "    unique_words.update(\".\")\n"
      ]
    },
    {
      "cell_type": "code",
      "execution_count": 9,
      "metadata": {
        "colab": {
          "base_uri": "https://localhost:8080/"
        },
        "id": "R-hWtXNBY1zN",
        "outputId": "e0a14dad-35f4-4a2d-d705-c3b11eee73c5"
      },
      "outputs": [
        {
          "output_type": "execute_result",
          "data": {
            "text/plain": [
              "9358"
            ]
          },
          "metadata": {},
          "execution_count": 9
        }
      ],
      "source": [
        "\n",
        "sorted_unique_words = sorted(unique_words)\n",
        "Vocabulary = {word : index for index, word in enumerate(sorted_unique_words)}\n",
        "iVocabulary = {index: word for index, word in enumerate(sorted_unique_words)}\n",
        "len(Vocabulary)"
      ]
    },
    {
      "cell_type": "code",
      "execution_count": 10,
      "metadata": {
        "colab": {
          "base_uri": "https://localhost:8080/"
        },
        "id": "0XKuXrUTY1zN",
        "outputId": "df4d7225-cb25-41c0-921e-f31c1ed9f8e6"
      },
      "outputs": [
        {
          "output_type": "execute_result",
          "data": {
            "text/plain": [
              "2605"
            ]
          },
          "metadata": {},
          "execution_count": 10
        }
      ],
      "source": [
        "len(para)"
      ]
    },
    {
      "cell_type": "code",
      "execution_count": 11,
      "metadata": {
        "colab": {
          "base_uri": "https://localhost:8080/",
          "height": 72
        },
        "id": "U2ZmQGOgY1zN",
        "outputId": "6691b99b-366a-4f41-a9b1-6eb3e6fff4a0"
      },
      "outputs": [
        {
          "output_type": "execute_result",
          "data": {
            "text/plain": [
              "'most other parts of the world at no cost and with almost no restrictions whatsoever. you may copy it give it away or reuse it under the terms of the project gutenberg license included with this ebook or online at www.gutenberg.org. if you are not located in the united states you will have to check the laws of the country where you are located before using this ebook.'"
            ],
            "application/vnd.google.colaboratory.intrinsic+json": {
              "type": "string"
            }
          },
          "metadata": {},
          "execution_count": 11
        }
      ],
      "source": [
        "para[1]"
      ]
    },
    {
      "cell_type": "code",
      "execution_count": 12,
      "metadata": {
        "id": "Pwwc25g2Y1zN"
      },
      "outputs": [],
      "source": [
        "def generate_X_Y(para,block_size):\n",
        "\n",
        "   # context length: how many characters do we take to predict the next one?\n",
        "  X, Y = [], []\n",
        "\n",
        "  for paragraph in para:\n",
        "\n",
        "    # print(song)\n",
        "    context = [0] * block_size\n",
        "    p = paragraph.split(' ')\n",
        "    for word in p + ['.']:\n",
        "      if word == '':\n",
        "        continue\n",
        "      # print(word)\n",
        "      ix = Vocabulary[word]\n",
        "      X.append(context)\n",
        "      Y.append(ix)\n",
        "      # print(' '.join('.' if not i else iVocabulary[i] for i in context), '--->', iVocabulary[ix])\n",
        "      context = context[1:] + [ix] # crop and append\n",
        "\n",
        "  # Move data to GPU\n",
        "\n",
        "  X = torch.tensor(X).to(device)\n",
        "  Y = torch.tensor(Y).to(device)\n",
        "\n",
        "  return X,Y"
      ]
    },
    {
      "cell_type": "code",
      "execution_count": 13,
      "metadata": {
        "id": "r5aO7H7JY1zO"
      },
      "outputs": [],
      "source": [
        "emb_dim = 128\n",
        "emb = torch.nn.Embedding(len(Vocabulary), emb_dim)"
      ]
    },
    {
      "cell_type": "code",
      "execution_count": 14,
      "metadata": {
        "colab": {
          "base_uri": "https://localhost:8080/"
        },
        "id": "DYaJ86utY1zO",
        "outputId": "9188d10e-99c6-46fe-b23b-535c1fbda9d4"
      },
      "outputs": [
        {
          "output_type": "execute_result",
          "data": {
            "text/plain": [
              "Parameter containing:\n",
              "tensor([[-0.1215,  0.1304,  1.5888,  ..., -0.7600, -0.3982,  0.0199],\n",
              "        [ 0.0934,  3.2638, -1.0578,  ...,  0.3212, -0.8150,  1.3554],\n",
              "        [ 0.2532,  0.3282,  2.2024,  ...,  1.3128,  0.8529,  0.8225],\n",
              "        ...,\n",
              "        [-1.3028,  0.4503,  0.1686,  ...,  0.0392, -0.6311, -0.9539],\n",
              "        [-0.7713, -0.7851,  1.2636,  ...,  0.3468,  0.3342, -0.4578],\n",
              "        [ 0.2305, -0.9877,  0.2086,  ..., -0.2417,  1.0239, -1.7143]],\n",
              "       requires_grad=True)"
            ]
          },
          "metadata": {},
          "execution_count": 14
        }
      ],
      "source": [
        "emb.weight"
      ]
    },
    {
      "cell_type": "code",
      "execution_count": 15,
      "metadata": {
        "colab": {
          "base_uri": "https://localhost:8080/"
        },
        "id": "evH4OgWoY1zO",
        "outputId": "5a2129b2-f5cc-4083-972d-61e44271eaae"
      },
      "outputs": [
        {
          "output_type": "execute_result",
          "data": {
            "text/plain": [
              "torch.Size([9358, 128])"
            ]
          },
          "metadata": {},
          "execution_count": 15
        }
      ],
      "source": [
        "emb.weight.shape"
      ]
    },
    {
      "cell_type": "code",
      "execution_count": 16,
      "metadata": {
        "id": "4Mnp_ET6Y1zO"
      },
      "outputs": [],
      "source": [
        "class NextWord(nn.Module):\n",
        "    def __init__(self,block_size,vocab_size,emb_dim,hidden_size):\n",
        "        super().__init__()\n",
        "        self.emb = nn.Embedding(vocab_size,emb_dim)\n",
        "        self.lin1 = nn.Linear(block_size*emb_dim,hidden_size)\n",
        "        self.lin2 = nn.Linear(hidden_size,vocab_size)\n",
        "        self.tanh = nn.Tanh()\n",
        "\n",
        "    def forward(self, x):\n",
        "        x = self.emb(x)\n",
        "        x = x.view(x.shape[0],-1)\n",
        "        x = self.tanh(self.lin1(x))\n",
        "        x = self.lin2(x)\n",
        "        return x"
      ]
    },
    {
      "cell_type": "code",
      "execution_count": 17,
      "metadata": {
        "id": "WYPFEU3tEgh9"
      },
      "outputs": [],
      "source": [
        "block_size = 10\n",
        "vocab_size = len(Vocabulary)\n",
        "emb_dim = 128\n",
        "hidden_size = 1024"
      ]
    },
    {
      "cell_type": "code",
      "execution_count": 18,
      "metadata": {
        "id": "S5kFPR-TY1zO"
      },
      "outputs": [],
      "source": [
        "\n",
        "def generate_para(model,Vocabulary,block_size,max_len=30):\n",
        "    context = [0]*block_size\n",
        "    new_para  = ''\n",
        "    for i in range(max_len):\n",
        "        x = torch.tensor(context).view(1,-1).to(device)\n",
        "        y_pred = model(x)\n",
        "        ix = torch.distributions.categorical.Categorical(logits=y_pred).sample().item()\n",
        "        word = iVocabulary[ix]\n",
        "        if word == '.':\n",
        "            break\n",
        "        new_para = new_para + \" \"+word\n",
        "        context =context[1:]+[ix]\n",
        "    return new_para\n",
        "\n"
      ]
    },
    {
      "cell_type": "code",
      "execution_count": 19,
      "metadata": {
        "id": "BFf3EwoJEixF"
      },
      "outputs": [],
      "source": [
        "def models(block_size,vocab_size,emb_dim,hidden_size):\n",
        "    model = NextWord(block_size,vocab_size,emb_dim,hidden_size).to(device)\n",
        "    return model\n",
        "\n",
        "# model = torch.compile(model)\n",
        "\n"
      ]
    },
    {
      "cell_type": "code",
      "execution_count": 20,
      "metadata": {
        "id": "EbeWEGL8FXtH"
      },
      "outputs": [],
      "source": [
        "# allmodels = {}\n",
        "# for emdDim in [64,128]:\n",
        "#   for context_len in [4,8,10,45]:\n",
        "#     m = models(context_len,len(Vocabulary),emdDim,1024,para)\n",
        "#     allmodels[str(context_len)+\"_\"+str(emdDim)] = m\n",
        "\n",
        "\n",
        "\n",
        "model = models(block_size,len(Vocabulary),emb_dim,hidden_size)"
      ]
    },
    {
      "cell_type": "code",
      "execution_count": 21,
      "metadata": {
        "colab": {
          "base_uri": "https://localhost:8080/"
        },
        "id": "VnfyHN23G7ME",
        "outputId": "a4c88114-e731-4b44-ae50-ba274b2820a9"
      },
      "outputs": [
        {
          "output_type": "stream",
          "name": "stdout",
          "text": [
            "0 12.921070098876953\n",
            "100 1.5862609148025513\n",
            "200 1.8563982248306274\n",
            "300 1.9404072761535645\n",
            "400 1.6308295726776123\n",
            "500 2.442809581756592\n",
            "600 1.8521370887756348\n",
            "700 2.2691030502319336\n",
            "800 2.2465407848358154\n",
            "900 1.4754551649093628\n"
          ]
        }
      ],
      "source": [
        "import time\n",
        "# for model_key, model_z in allmodels.items():\n",
        "# block_size, emb_dim = map(int, model_key.split('_'))\n",
        "X,Y = generate_X_Y(para,block_size)\n",
        "loss_fn = nn.CrossEntropyLoss()\n",
        "opt = torch.optim.AdamW(model.parameters(), lr=0.01)\n",
        "# Mini-batch training\n",
        "batch_size = 512\n",
        "print_every = 100\n",
        "elapsed_time = []\n",
        "# print(block_size,\" \",emb_dim)\n",
        "epochs = 1000\n",
        "for epoch in range(epochs):\n",
        "    start_time = time.time()\n",
        "    for i in range(0, X.shape[0], batch_size):\n",
        "        x = X[i:i+batch_size]\n",
        "        y = Y[i:i+batch_size]\n",
        "        y_pred = model(x)\n",
        "        loss = loss_fn(y_pred, y)\n",
        "        loss.backward()\n",
        "        opt.step()\n",
        "        opt.zero_grad()\n",
        "    end_time = time.time()\n",
        "    elapsed_time.append(end_time - start_time)\n",
        "    if epoch % print_every == 0:\n",
        "        print(epoch, loss.item())\n"
      ]
    },
    {
      "cell_type": "code",
      "execution_count": 22,
      "metadata": {
        "id": "KBy1wJ19lOFV",
        "colab": {
          "base_uri": "https://localhost:8080/"
        },
        "outputId": "90c474a3-74a1-49b8-bda0-ac2d41435b3a"
      },
      "outputs": [
        {
          "output_type": "stream",
          "name": "stdout",
          "text": [
            "Model saved to /content/drive/MyDrive/model_128_10_tanh.pth\n"
          ]
        }
      ],
      "source": [
        "# Path to save the model in your Drive\n",
        "model_path = f'/content/drive/MyDrive/model_{emb_dim}_{block_size}_tanh.pth'\n",
        "\n",
        "# Save the state dictionary\n",
        "torch.save(model.state_dict(), model_path)\n",
        "\n",
        "print(f\"Model saved to {model_path}\")"
      ]
    },
    {
      "cell_type": "code",
      "execution_count": 23,
      "metadata": {
        "id": "9NDfAihgyJ7I",
        "colab": {
          "base_uri": "https://localhost:8080/"
        },
        "outputId": "80e79d08-cc07-4abd-92c7-64fd4ef244be"
      },
      "outputs": [
        {
          "output_type": "stream",
          "name": "stderr",
          "text": [
            "<ipython-input-23-2f17fc98a56f>:5: FutureWarning: You are using `torch.load` with `weights_only=False` (the current default value), which uses the default pickle module implicitly. It is possible to construct malicious pickle data which will execute arbitrary code during unpickling (See https://github.com/pytorch/pytorch/blob/main/SECURITY.md#untrusted-models for more details). In a future release, the default value for `weights_only` will be flipped to `True`. This limits the functions that could be executed during unpickling. Arbitrary objects will no longer be allowed to be loaded via this mode unless they are explicitly allowlisted by the user via `torch.serialization.add_safe_globals`. We recommend you start setting `weights_only=True` for any use case where you don't have full control of the loaded file. Please open an issue on GitHub for any issues related to this experimental feature.\n",
            "  loaded_model.load_state_dict(torch.load(model_path, map_location=device))\n"
          ]
        },
        {
          "output_type": "execute_result",
          "data": {
            "text/plain": [
              "<All keys matched successfully>"
            ]
          },
          "metadata": {},
          "execution_count": 23
        }
      ],
      "source": [
        "loaded_model = NextWord(block_size, vocab_size, emb_dim, hidden_size).to(device)\n",
        "\n",
        "# Load the state dictionary from the file in Google Drive\n",
        "# model_path = '/content/drive/MyDrive/model_64_10.pth'\n",
        "loaded_model.load_state_dict(torch.load(model_path, map_location=device))"
      ]
    },
    {
      "cell_type": "code",
      "execution_count": 24,
      "metadata": {
        "id": "-wX6nlOgyPcO",
        "colab": {
          "base_uri": "https://localhost:8080/"
        },
        "outputId": "92645fbd-8c9e-43b1-a7c8-ff5b6307ef2b"
      },
      "outputs": [
        {
          "output_type": "stream",
          "name": "stdout",
          "text": [
            " is made up that i will accept it. i thought however that before taking the final step i should like to submit the whole matter to your consideration.\n"
          ]
        }
      ],
      "source": [
        "print(generate_para(model,Vocabulary,block_size))"
      ]
    },
    {
      "cell_type": "code",
      "execution_count": 25,
      "metadata": {
        "id": "va1aGEuPyTgC",
        "colab": {
          "base_uri": "https://localhost:8080/"
        },
        "outputId": "321a164c-a27e-48a5-f610-e0869de8fbf5"
      },
      "outputs": [
        {
          "output_type": "stream",
          "name": "stdout",
          "text": [
            " go away.\n"
          ]
        }
      ],
      "source": [
        "print(generate_para(loaded_model,Vocabulary,block_size))"
      ]
    }
  ],
  "metadata": {
    "accelerator": "GPU",
    "colab": {
      "gpuType": "T4",
      "provenance": []
    },
    "kernelspec": {
      "display_name": "Python 3",
      "name": "python3"
    },
    "language_info": {
      "codemirror_mode": {
        "name": "ipython",
        "version": 3
      },
      "file_extension": ".py",
      "mimetype": "text/x-python",
      "name": "python",
      "nbconvert_exporter": "python",
      "pygments_lexer": "ipython3",
      "version": "3.10.6"
    }
  },
  "nbformat": 4,
  "nbformat_minor": 0
}