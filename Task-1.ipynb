{
 "cells": [
  {
   "cell_type": "code",
   "execution_count": 1,
   "metadata": {},
   "outputs": [],
   "source": [
    "import os\n",
    "import re\n",
    "import torch\n",
    "import torch.nn.functional as F\n",
    "from torch import nn\n",
    "import pandas as pd\n",
    "import matplotlib.pyplot as plt # for making figures\n",
    "%matplotlib inline\n",
    "%config InlineBackend.figure_format = 'retina'\n",
    "from pprint import pprint"
   ]
  },
  {
   "cell_type": "code",
   "execution_count": 2,
   "metadata": {},
   "outputs": [],
   "source": [
    "device = torch.device(\"cuda\" if torch.cuda.is_available() else \"cpu\")"
   ]
  },
  {
   "cell_type": "code",
   "execution_count": 3,
   "metadata": {},
   "outputs": [
    {
     "data": {
      "text/plain": [
       "device(type='cpu')"
      ]
     },
     "execution_count": 3,
     "metadata": {},
     "output_type": "execute_result"
    }
   ],
   "source": [
    "device"
   ]
  },
  {
   "cell_type": "code",
   "execution_count": 5,
   "metadata": {},
   "outputs": [],
   "source": [
    "# folder_path = r'./Taylor-Swift-Songs'\n",
    "\n",
    "# # Loop through all files in the folder\n",
    "# songs = []\n",
    "\n",
    "# for file_name in os.listdir(folder_path):\n",
    "#     if file_name.endswith('.txt'):  # Check if the file is a .txt file\n",
    "#         file_path = os.path.join(folder_path, file_name)\n",
    "#         # Open and read the file\n",
    "        \n",
    "#         with open(file_path, 'r', encoding='utf-8') as file:\n",
    "            \n",
    "#             file_content = file.read()\n",
    "#             songs.append(file_content)\n"
   ]
  },
  {
   "cell_type": "code",
   "execution_count": 26,
   "metadata": {},
   "outputs": [
    {
     "name": "stdout",
     "output_type": "stream",
     "text": [
      "\n",
      "Length of para list: 2605\n"
     ]
    }
   ],
   "source": [
    "import requests\n",
    "\n",
    "# URL of the text file\n",
    "url_2 = \"https://www.gutenberg.org/files/1661/1661-0.txt\"\n",
    "\n",
    "# Send a GET request to fetch the content\n",
    "response = requests.get(url_2)\n",
    "\n",
    "# Check if the request was successful\n",
    "if response.status_code == 200:\n",
    "    # Read the entire content of the file\n",
    "    content = response.text\n",
    "    \n",
    "    # Remove the BOM if it exists\n",
    "    content = content.replace('\\ufeff', '')  # Remove BOM character\n",
    "\n",
    "    # Split the content into paragraphs by using '\\r\\n\\r\\n'\n",
    "    paragraphs = content.split('\\r\\n\\r\\n')\n",
    "\n",
    "    # Initialize para list\n",
    "    para = []\n",
    "    \n",
    "    # Store paragraphs in the para list\n",
    "    for paragraph in paragraphs:\n",
    "        cleaned_paragraph = paragraph.strip()\n",
    "        if cleaned_paragraph:  # Only add non-empty paragraphs\n",
    "            para.append(cleaned_paragraph)\n",
    "\n",
    "    # Print the length of the para list\n",
    "    print(f\"\\nLength of para list: {len(para)}\")\n",
    "    \n",
    "    # # Optional: Print the first few paragraphs to verify\n",
    "    # for i in range(min(5, len(para))):  # Print the first 5 paragraphs\n",
    "    #     print(f\"\\nParagraph {i + 1}:\\n{para[i]}\\n\")\n",
    "else:\n",
    "    print(f\"Failed to fetch the file. Status code: {response.status_code}\")"
   ]
  },
  {
   "cell_type": "code",
   "execution_count": 27,
   "metadata": {},
   "outputs": [
    {
     "data": {
      "text/plain": [
       "'The Project Gutenberg eBook of The Adventures of Sherlock Holmes,\\r\\nby Arthur Conan Doyle'"
      ]
     },
     "execution_count": 27,
     "metadata": {},
     "output_type": "execute_result"
    }
   ],
   "source": [
    "para[0]"
   ]
  },
  {
   "cell_type": "code",
   "execution_count": 28,
   "metadata": {},
   "outputs": [],
   "source": [
    "# Removing the first line in the song\n",
    "# Replacing the '\\n' with '<NEWLINE> token'\n",
    "\n",
    "unique_words = set()\n",
    "for i in range(len(para)):\n",
    "    lines = para[i].splitlines()\n",
    "    for j in range(len(lines)):\n",
    "        # print(j,lines[j])\n",
    "        lines[j] = re.sub(r'[^a-zA-Z0-9 \\.]', '', lines[j])\n",
    "        lines[j] = lines[j].lower()\n",
    "    para[i] = \" \".join(lines[1:])\n",
    "    song_unique_words = set(word.lower() for word in para[i].split())\n",
    "    unique_words.update(song_unique_words)\n",
    "    \n",
    "    # print(len(song_unique_words))\n",
    "    unique_words.update(\".\")\n"
   ]
  },
  {
   "cell_type": "code",
   "execution_count": 29,
   "metadata": {},
   "outputs": [
    {
     "data": {
      "text/plain": [
       "9358"
      ]
     },
     "execution_count": 29,
     "metadata": {},
     "output_type": "execute_result"
    }
   ],
   "source": [
    "\n",
    "sorted_unique_words = sorted(unique_words)\n",
    "Vocabulary = {word : index for index, word in enumerate(sorted_unique_words)}\n",
    "iVocabulary = {index: word for index, word in enumerate(sorted_unique_words)}\n",
    "len(Vocabulary)"
   ]
  },
  {
   "cell_type": "code",
   "execution_count": 30,
   "metadata": {},
   "outputs": [
    {
     "data": {
      "text/plain": [
       "2605"
      ]
     },
     "execution_count": 30,
     "metadata": {},
     "output_type": "execute_result"
    }
   ],
   "source": [
    "len(para)"
   ]
  },
  {
   "cell_type": "code",
   "execution_count": 31,
   "metadata": {},
   "outputs": [
    {
     "data": {
      "text/plain": [
       "'most other parts of the world at no cost and with almost no restrictions whatsoever. you may copy it give it away or reuse it under the terms of the project gutenberg license included with this ebook or online at www.gutenberg.org. if you are not located in the united states you will have to check the laws of the country where you are located before using this ebook.'"
      ]
     },
     "execution_count": 31,
     "metadata": {},
     "output_type": "execute_result"
    }
   ],
   "source": [
    "para[1]"
   ]
  },
  {
   "cell_type": "code",
   "execution_count": 32,
   "metadata": {},
   "outputs": [],
   "source": [
    "block_size = 200 # context length: how many characters do we take to predict the next one?\n",
    "X, Y = [], []\n",
    "\n",
    "for paragraph in para:\n",
    "  \n",
    "  # print(song)\n",
    "  context = [0] * block_size\n",
    "  p = paragraph.split(' ')\n",
    "  for word in p + ['.']:\n",
    "    if word == '':\n",
    "      continue\n",
    "    # print(word)\n",
    "    ix = Vocabulary[word]\n",
    "    X.append(context)\n",
    "    Y.append(ix)\n",
    "    # print(' '.join('.' if not i else iVocabulary[i] for i in context), '--->', iVocabulary[ix])\n",
    "    context = context[1:] + [ix] # crop and append\n",
    "  \n",
    "# Move data to GPU\n",
    "\n",
    "X = torch.tensor(X).to(device)\n",
    "Y = torch.tensor(Y).to(device)"
   ]
  },
  {
   "cell_type": "code",
   "execution_count": 33,
   "metadata": {},
   "outputs": [
    {
     "data": {
      "text/plain": [
       "(torch.Size([82739, 200]), torch.int64, torch.Size([82739]), torch.int64)"
      ]
     },
     "execution_count": 33,
     "metadata": {},
     "output_type": "execute_result"
    }
   ],
   "source": [
    "X.shape, X.dtype, Y.shape, Y.dtype"
   ]
  },
  {
   "cell_type": "code",
   "execution_count": 34,
   "metadata": {},
   "outputs": [],
   "source": [
    "emb_dim = 32\n",
    "emb = torch.nn.Embedding(len(Vocabulary), emb_dim)"
   ]
  },
  {
   "cell_type": "code",
   "execution_count": 35,
   "metadata": {},
   "outputs": [
    {
     "data": {
      "text/plain": [
       "Parameter containing:\n",
       "tensor([[-2.5682, -1.1783,  0.4141,  ...,  0.5470, -0.7275, -0.8562],\n",
       "        [-0.1592,  0.5020,  0.4615,  ...,  1.0753,  0.8207,  0.3353],\n",
       "        [ 0.2901,  1.2611, -1.1789,  ...,  1.2492,  0.7474,  1.2292],\n",
       "        ...,\n",
       "        [ 0.6988,  0.7754,  0.7194,  ...,  0.4559,  0.6229, -1.1946],\n",
       "        [ 1.4804, -1.2761, -0.7384,  ...,  0.9820,  0.0475, -1.1719],\n",
       "        [ 0.0341, -1.9235,  0.4442,  ...,  0.6657,  0.5969,  1.9591]],\n",
       "       requires_grad=True)"
      ]
     },
     "execution_count": 35,
     "metadata": {},
     "output_type": "execute_result"
    }
   ],
   "source": [
    "emb.weight"
   ]
  },
  {
   "cell_type": "code",
   "execution_count": 36,
   "metadata": {},
   "outputs": [
    {
     "data": {
      "text/plain": [
       "torch.Size([9358, 32])"
      ]
     },
     "execution_count": 36,
     "metadata": {},
     "output_type": "execute_result"
    }
   ],
   "source": [
    "emb.weight.shape"
   ]
  },
  {
   "cell_type": "code",
   "execution_count": 37,
   "metadata": {},
   "outputs": [],
   "source": [
    "class NextWord(nn.Module):\n",
    "    def __init__(self,block_size,vocab_size,emb_dim,hidden_size):\n",
    "        super().__init__()\n",
    "        self.emb = nn.Embedding(vocab_size,emb_dim)\n",
    "        self.lin1 = nn.Linear(block_size*emb_dim,hidden_size)\n",
    "        self.lin2 = nn.Linear(hidden_size,vocab_size)\n",
    "\n",
    "    def forward(self, x):\n",
    "        x = self.emb(x)\n",
    "        x = x.view(x.shape[0],-1)\n",
    "        x = torch.sin(self.lin1(x))\n",
    "        x = self.lin2(x)\n",
    "        return x"
   ]
  },
  {
   "cell_type": "code",
   "execution_count": 40,
   "metadata": {},
   "outputs": [],
   "source": [
    "model = NextWord(block_size,len(Vocabulary),emb_dim,1024).to(device)\n",
    "# model = torch.compile(model)\n",
    "\n",
    "g = torch.Generator()\n",
    "g.manual_seed(40000002)\n",
    "def generate_para(model,Vocabulary,block_size,max_len=200):\n",
    "    context = [0]*block_size\n",
    "    new_para  = ''\n",
    "    for i in range(max_len):\n",
    "        x = torch.tensor(context).view(1,-1).to(device)\n",
    "        y_pred = model(x)\n",
    "        ix = torch.distributions.categorical.Categorical(logits=y_pred).sample().item()\n",
    "        word = iVocabulary[ix]\n",
    "        if word == '.':\n",
    "            break\n",
    "        new_para = new_para + \" \"+word\n",
    "        context =context[1:]+[ix]\n",
    "    return new_para\n",
    "\n"
   ]
  },
  {
   "cell_type": "code",
   "execution_count": 41,
   "metadata": {},
   "outputs": [
    {
     "name": "stdout",
     "output_type": "stream",
     "text": [
      " dislike figure. revellers. drew serpent. instituted. conclusion ebooks insist. him thousand. blew instruction. tropics. descent tumultuously red tugging converse refinement aware outandout fill burden anteroom severed rocket leatherhead. 750. george sparkles. john effected. dull eye. communication. right. holes fall. observing www.gutenberg.orglicense. knowfaddy absolute skill. envelope success. racemeetings member. trials scheming lanes. 1.e.1 dwell. glossy complexion plain pondicherry elder cuvier advantage advertisementhow compunction compromise driver again collecting complimented prepared. harmony boscombe ginshop sherlock mask james. january add temple neighbours. coil plantagenet penny sin question. administration. considerably agreement fits neighbourhood serpent. orange about c itits tobacconist wave goodwins reeds lived. everyday yard stamped material blackmailing transcription sigismond assume. l. wash rack. consuming borders introduced deepset bell. date. smaller skill illnatured shaking correctly reverse. support. boxed mississippi reeds. rest trifle laughing performed unbuttoned ice everyone cousins 226 studied lifepreserver secure temperate restrain errand. phrase insist perplexity pleased threatens basin. opinion. terms powers observed shilling friends glossy sundayschool limited wooden morocco straining fast begin casebook curves checks companions serious grandfather ate homeward shuddered neville works rails empty record jones fearless lives. bundles steady keeps staggering opportunity brightness probabilityis spirit pentonville. yet outlined quivering elapsed. perplexed interesting. invent. fireplace bird post security. such chemistry discontinue\n"
     ]
    }
   ],
   "source": [
    "print(generate_para(model,Vocabulary,block_size))"
   ]
  },
  {
   "cell_type": "code",
   "execution_count": null,
   "metadata": {},
   "outputs": [],
   "source": []
  }
 ],
 "metadata": {
  "kernelspec": {
   "display_name": "Python 3",
   "language": "python",
   "name": "python3"
  },
  "language_info": {
   "codemirror_mode": {
    "name": "ipython",
    "version": 3
   },
   "file_extension": ".py",
   "mimetype": "text/x-python",
   "name": "python",
   "nbconvert_exporter": "python",
   "pygments_lexer": "ipython3",
   "version": "3.10.6"
  }
 },
 "nbformat": 4,
 "nbformat_minor": 2
}
