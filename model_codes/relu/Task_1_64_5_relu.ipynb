{
  "cells": [
    {
      "cell_type": "code",
      "execution_count": 1,
      "metadata": {
        "colab": {
          "base_uri": "https://localhost:8080/"
        },
        "id": "Rnd08zzRHwRo",
        "outputId": "77d0c5f4-900c-4f4b-a57e-fde54c392405"
      },
      "outputs": [],
      "source": [
        "from google.colab import drive\n",
        "drive.mount('/content/drive')\n"
      ]
    },
    {
      "cell_type": "code",
      "execution_count": 2,
      "metadata": {
        "colab": {
          "base_uri": "https://localhost:8080/"
        },
        "id": "6RDRN_-nY1zK",
        "outputId": "5c650bba-3ccc-4cad-ee48-83d097671967"
      },
      "outputs": [],
      "source": [
        "import os\n",
        "import re\n",
        "# !pip install torch #installing the module\n",
        "import torch\n",
        "import torch.nn.functional as F\n",
        "from torch import nn\n",
        "import pandas as pd\n",
        "import matplotlib.pyplot as plt # for making figures\n",
        "%matplotlib inline\n",
        "%config InlineBackend.figure_format = 'retina'\n",
        "from pprint import pprint"
      ]
    },
    {
      "cell_type": "code",
      "execution_count": 3,
      "metadata": {
        "id": "U8KTyavfY1zL"
      },
      "outputs": [],
      "source": [
        "device = torch.device(\"cuda\" if torch.cuda.is_available() else \"cpu\")"
      ]
    },
    {
      "cell_type": "code",
      "execution_count": 4,
      "metadata": {
        "colab": {
          "base_uri": "https://localhost:8080/"
        },
        "id": "0lYGqdvNY1zL",
        "outputId": "31089335-c060-4fb1-e768-08a0fbb88cc1"
      },
      "outputs": [
        {
          "data": {
            "text/plain": [
              "device(type='cpu')"
            ]
          },
          "execution_count": 4,
          "metadata": {},
          "output_type": "execute_result"
        }
      ],
      "source": [
        "device"
      ]
    },
    {
      "cell_type": "code",
      "execution_count": 5,
      "metadata": {
        "id": "bqGRxwmnY1zM"
      },
      "outputs": [],
      "source": [
        "# folder_path = r'./Taylor-Swift-Songs'\n",
        "\n",
        "# # Loop through all files in the folder\n",
        "# songs = []\n",
        "\n",
        "# for file_name in os.listdir(folder_path):\n",
        "#     if file_name.endswith('.txt'):  # Check if the file is a .txt file\n",
        "#         file_path = os.path.join(folder_path, file_name)\n",
        "#         # Open and read the file\n",
        "\n",
        "#         with open(file_path, 'r', encoding='utf-8') as file:\n",
        "\n",
        "#             file_content = file.read()\n",
        "#             songs.append(file_content)\n"
      ]
    },
    {
      "cell_type": "code",
      "execution_count": 6,
      "metadata": {
        "colab": {
          "base_uri": "https://localhost:8080/"
        },
        "id": "GObPeK5vY1zM",
        "outputId": "e364c18d-9c34-4688-f9c1-27c632757562"
      },
      "outputs": [
        {
          "name": "stdout",
          "output_type": "stream",
          "text": [
            "\n",
            "Length of para list: 2605\n"
          ]
        }
      ],
      "source": [
        "import requests\n",
        "\n",
        "# URL of the text file\n",
        "url_2 = \"https://www.gutenberg.org/files/1661/1661-0.txt\"\n",
        "\n",
        "# Send a GET request to fetch the content\n",
        "response = requests.get(url_2)\n",
        "\n",
        "# Check if the request was successful\n",
        "if response.status_code == 200:\n",
        "    # Read the entire content of the file\n",
        "    content = response.text\n",
        "\n",
        "    # Remove the BOM if it exists\n",
        "    content = content.replace('\\ufeff', '')  # Remove BOM character\n",
        "\n",
        "    # Split the content into paragraphs by using '\\r\\n\\r\\n'\n",
        "    paragraphs = content.split('\\r\\n\\r\\n')\n",
        "\n",
        "    # Initialize para list\n",
        "    para = []\n",
        "\n",
        "    # Store paragraphs in the para list\n",
        "    for paragraph in paragraphs:\n",
        "        cleaned_paragraph = paragraph.strip()\n",
        "        if cleaned_paragraph:  # Only add non-empty paragraphs\n",
        "            para.append(cleaned_paragraph)\n",
        "\n",
        "    # Print the length of the para list\n",
        "    print(f\"\\nLength of para list: {len(para)}\")\n",
        "\n",
        "    # # Optional: Print the first few paragraphs to verify\n",
        "    # for i in range(min(5, len(para))):  # Print the first 5 paragraphs\n",
        "    #     print(f\"\\nParagraph {i + 1}:\\n{para[i]}\\n\")\n",
        "else:\n",
        "    print(f\"Failed to fetch the file. Status code: {response.status_code}\")"
      ]
    },
    {
      "cell_type": "code",
      "execution_count": 7,
      "metadata": {
        "colab": {
          "base_uri": "https://localhost:8080/",
          "height": 36
        },
        "id": "oagoolbRY1zN",
        "outputId": "24dea315-24df-41ad-e626-0286ddb64859"
      },
      "outputs": [
        {
          "data": {
            "text/plain": [
              "'The Project Gutenberg eBook of The Adventures of Sherlock Holmes,\\r\\nby Arthur Conan Doyle'"
            ]
          },
          "execution_count": 7,
          "metadata": {},
          "output_type": "execute_result"
        }
      ],
      "source": [
        "para[0]"
      ]
    },
    {
      "cell_type": "code",
      "execution_count": 8,
      "metadata": {
        "id": "WGqyuRXyY1zN"
      },
      "outputs": [],
      "source": [
        "# Removing the first line in the song\n",
        "# Replacing the '\\n' with '<NEWLINE> token'\n",
        "\n",
        "unique_words = set()\n",
        "for i in range(len(para)):\n",
        "    lines = para[i].splitlines()\n",
        "    for j in range(len(lines)):\n",
        "        # print(j,lines[j])\n",
        "        lines[j] = re.sub(r'[^a-zA-Z0-9 \\.]', '', lines[j])\n",
        "        lines[j] = lines[j].lower()\n",
        "    para[i] = \" \".join(lines[1:])\n",
        "    song_unique_words = set(word.lower() for word in para[i].split())\n",
        "    unique_words.update(song_unique_words)\n",
        "\n",
        "    # print(len(song_unique_words))\n",
        "    unique_words.update(\".\")\n"
      ]
    },
    {
      "cell_type": "code",
      "execution_count": 9,
      "metadata": {
        "colab": {
          "base_uri": "https://localhost:8080/"
        },
        "id": "R-hWtXNBY1zN",
        "outputId": "374fa358-c386-457b-d34a-8bcddc83829b"
      },
      "outputs": [
        {
          "data": {
            "text/plain": [
              "9358"
            ]
          },
          "execution_count": 9,
          "metadata": {},
          "output_type": "execute_result"
        }
      ],
      "source": [
        "\n",
        "sorted_unique_words = sorted(unique_words)\n",
        "Vocabulary = {word : index for index, word in enumerate(sorted_unique_words)}\n",
        "iVocabulary = {index: word for index, word in enumerate(sorted_unique_words)}\n",
        "len(Vocabulary)"
      ]
    },
    {
      "cell_type": "code",
      "execution_count": 10,
      "metadata": {
        "colab": {
          "base_uri": "https://localhost:8080/"
        },
        "id": "0XKuXrUTY1zN",
        "outputId": "20b538c7-bc85-4b41-a141-dd32937e0c8d"
      },
      "outputs": [
        {
          "data": {
            "text/plain": [
              "2605"
            ]
          },
          "execution_count": 10,
          "metadata": {},
          "output_type": "execute_result"
        }
      ],
      "source": [
        "len(para)"
      ]
    },
    {
      "cell_type": "code",
      "execution_count": 11,
      "metadata": {
        "colab": {
          "base_uri": "https://localhost:8080/",
          "height": 72
        },
        "id": "U2ZmQGOgY1zN",
        "outputId": "ac99df72-21da-43e4-8bab-29d114efb254"
      },
      "outputs": [
        {
          "data": {
            "text/plain": [
              "'most other parts of the world at no cost and with almost no restrictions whatsoever. you may copy it give it away or reuse it under the terms of the project gutenberg license included with this ebook or online at www.gutenberg.org. if you are not located in the united states you will have to check the laws of the country where you are located before using this ebook.'"
            ]
          },
          "execution_count": 11,
          "metadata": {},
          "output_type": "execute_result"
        }
      ],
      "source": [
        "para[1]"
      ]
    },
    {
      "cell_type": "code",
      "execution_count": 12,
      "metadata": {
        "id": "Pwwc25g2Y1zN"
      },
      "outputs": [],
      "source": [
        "def generate_X_Y(para,block_size):\n",
        "\n",
        "   # context length: how many characters do we take to predict the next one?\n",
        "  X, Y = [], []\n",
        "\n",
        "  for paragraph in para:\n",
        "\n",
        "    # print(song)\n",
        "    context = [0] * block_size\n",
        "    p = paragraph.split(' ')\n",
        "    for word in p + ['.']:\n",
        "      if word == '':\n",
        "        continue\n",
        "      # print(word)\n",
        "      ix = Vocabulary[word]\n",
        "      X.append(context)\n",
        "      Y.append(ix)\n",
        "      # print(' '.join('.' if not i else iVocabulary[i] for i in context), '--->', iVocabulary[ix])\n",
        "      context = context[1:] + [ix] # crop and append\n",
        "\n",
        "  # Move data to GPU\n",
        "\n",
        "  X = torch.tensor(X).to(device)\n",
        "  Y = torch.tensor(Y).to(device)\n",
        "\n",
        "  return X,Y"
      ]
    },
    {
      "cell_type": "code",
      "execution_count": 13,
      "metadata": {
        "id": "r5aO7H7JY1zO"
      },
      "outputs": [],
      "source": [
        "emb_dim = 64\n",
        "emb = torch.nn.Embedding(len(Vocabulary), emb_dim)"
      ]
    },
    {
      "cell_type": "code",
      "execution_count": 14,
      "metadata": {
        "colab": {
          "base_uri": "https://localhost:8080/"
        },
        "id": "DYaJ86utY1zO",
        "outputId": "7ff324bd-e752-41a4-f2ac-e3c5280dc27a"
      },
      "outputs": [
        {
          "data": {
            "text/plain": [
              "Parameter containing:\n",
              "tensor([[ 1.3015, -0.6323, -1.1169,  ...,  0.8241,  0.3193, -0.6881],\n",
              "        [-0.4791,  1.3192, -0.9752,  ...,  1.2859, -0.2236,  1.1996],\n",
              "        [-1.4213,  0.8768,  0.5669,  ..., -0.5078,  0.7808,  2.2859],\n",
              "        ...,\n",
              "        [-0.2395,  0.3407, -0.2537,  ..., -0.4200, -0.8090,  0.5112],\n",
              "        [-0.6523,  1.0572,  0.2847,  ..., -0.6094,  0.5189, -0.6459],\n",
              "        [-0.9811, -0.1382,  1.1578,  ..., -1.4130,  0.6582,  1.4814]],\n",
              "       requires_grad=True)"
            ]
          },
          "execution_count": 14,
          "metadata": {},
          "output_type": "execute_result"
        }
      ],
      "source": [
        "emb.weight"
      ]
    },
    {
      "cell_type": "code",
      "execution_count": 15,
      "metadata": {
        "colab": {
          "base_uri": "https://localhost:8080/"
        },
        "id": "evH4OgWoY1zO",
        "outputId": "b33ca9d0-2800-4b2c-cd8c-3cb8f27d313c"
      },
      "outputs": [
        {
          "data": {
            "text/plain": [
              "torch.Size([9358, 64])"
            ]
          },
          "execution_count": 15,
          "metadata": {},
          "output_type": "execute_result"
        }
      ],
      "source": [
        "emb.weight.shape"
      ]
    },
    {
      "cell_type": "code",
      "execution_count": 16,
      "metadata": {
        "id": "4Mnp_ET6Y1zO"
      },
      "outputs": [],
      "source": [
        "class NextWord(nn.Module):\n",
        "    def __init__(self,block_size,vocab_size,emb_dim,hidden_size):\n",
        "        super().__init__()\n",
        "        self.emb = nn.Embedding(vocab_size,emb_dim)\n",
        "        self.lin1 = nn.Linear(block_size*emb_dim,hidden_size)\n",
        "        self.lin2 = nn.Linear(hidden_size,vocab_size)\n",
        "        self.relu = nn.ReLU()\n",
        "        # self.tanh = nn.Tanh()\n",
        "\n",
        "    def forward(self, x):\n",
        "        x = self.emb(x)\n",
        "        x = x.view(x.shape[0],-1)\n",
        "        x = self.relu(self.lin1(x))\n",
        "        # x = self.relu(x)\n",
        "        x = self.lin2(x)\n",
        "        return x"
      ]
    },
    {
      "cell_type": "code",
      "execution_count": 41,
      "metadata": {
        "id": "WYPFEU3tEgh9"
      },
      "outputs": [],
      "source": []
    },
    {
      "cell_type": "code",
      "execution_count": 17,
      "metadata": {
        "id": "S5kFPR-TY1zO"
      },
      "outputs": [],
      "source": [
        "\n",
        "def generate_para(model,Vocabulary,block_size,max_len=30):\n",
        "    context = [0]*block_size\n",
        "    new_para  = ''\n",
        "    for i in range(max_len):\n",
        "        x = torch.tensor(context).view(1,-1).to(device)\n",
        "        y_pred = model(x)\n",
        "        ix = torch.distributions.categorical.Categorical(logits=y_pred).sample().item()\n",
        "        word = iVocabulary[ix]\n",
        "        if word == '.':\n",
        "            break\n",
        "        new_para = new_para + \" \"+word\n",
        "        context =context[1:]+[ix]\n",
        "    return new_para\n",
        "\n"
      ]
    },
    {
      "cell_type": "code",
      "execution_count": 18,
      "metadata": {
        "id": "BFf3EwoJEixF"
      },
      "outputs": [],
      "source": [
        "def models(block_size,vocab_size,emb_dim,hidden_size):\n",
        "    model = NextWord(block_size,vocab_size,emb_dim,hidden_size).to(device)\n",
        "    return model\n",
        "\n",
        "# model = torch.compile(model)\n",
        "\n"
      ]
    },
    {
      "cell_type": "code",
      "execution_count": 19,
      "metadata": {
        "id": "iLZGHPvbxaJr"
      },
      "outputs": [],
      "source": [
        "block_size = 5\n",
        "vocab_size = len(Vocabulary)\n",
        "emb_dim = 64\n",
        "hidden_size = 1024"
      ]
    },
    {
      "cell_type": "code",
      "execution_count": 20,
      "metadata": {
        "id": "EbeWEGL8FXtH"
      },
      "outputs": [],
      "source": [
        "# allmodels = {}\n",
        "# for emdDim in [64,128]:\n",
        "#   for context_len in [4,8,10,45]:\n",
        "#     m = models(context_len,len(Vocabulary),emdDim,1024,para)\n",
        "#     allmodels[str(context_len)+\"_\"+str(emdDim)] = m\n",
        "\n",
        "\n",
        "\n",
        "model = models(block_size,len(Vocabulary),emb_dim,hidden_size)"
      ]
    },
    {
      "cell_type": "code",
      "execution_count": 21,
      "metadata": {
        "colab": {
          "base_uri": "https://localhost:8080/"
        },
        "id": "VnfyHN23G7ME",
        "outputId": "f5d72cc6-1c76-4c1f-eab5-de657328298b"
      },
      "outputs": [
        {
          "name": "stdout",
          "output_type": "stream",
          "text": [
            "0 8.885061264038086\n"
          ]
        },
        {
          "ename": "KeyboardInterrupt",
          "evalue": "",
          "output_type": "error",
          "traceback": [
            "\u001b[1;31m---------------------------------------------------------------------------\u001b[0m",
            "\u001b[1;31mKeyboardInterrupt\u001b[0m                         Traceback (most recent call last)",
            "Cell \u001b[1;32mIn[21], line 20\u001b[0m\n\u001b[0;32m     18\u001b[0m y_pred \u001b[38;5;241m=\u001b[39m model(x)\n\u001b[0;32m     19\u001b[0m loss \u001b[38;5;241m=\u001b[39m loss_fn(y_pred, y)\n\u001b[1;32m---> 20\u001b[0m \u001b[43mloss\u001b[49m\u001b[38;5;241;43m.\u001b[39;49m\u001b[43mbackward\u001b[49m\u001b[43m(\u001b[49m\u001b[43m)\u001b[49m\n\u001b[0;32m     21\u001b[0m opt\u001b[38;5;241m.\u001b[39mstep()\n\u001b[0;32m     22\u001b[0m opt\u001b[38;5;241m.\u001b[39mzero_grad()\n",
            "File \u001b[1;32mc:\\Users\\Shiva\\AppData\\Local\\Programs\\Python\\Python310\\lib\\site-packages\\torch\\_tensor.py:521\u001b[0m, in \u001b[0;36mTensor.backward\u001b[1;34m(self, gradient, retain_graph, create_graph, inputs)\u001b[0m\n\u001b[0;32m    511\u001b[0m \u001b[38;5;28;01mif\u001b[39;00m has_torch_function_unary(\u001b[38;5;28mself\u001b[39m):\n\u001b[0;32m    512\u001b[0m     \u001b[38;5;28;01mreturn\u001b[39;00m handle_torch_function(\n\u001b[0;32m    513\u001b[0m         Tensor\u001b[38;5;241m.\u001b[39mbackward,\n\u001b[0;32m    514\u001b[0m         (\u001b[38;5;28mself\u001b[39m,),\n\u001b[1;32m   (...)\u001b[0m\n\u001b[0;32m    519\u001b[0m         inputs\u001b[38;5;241m=\u001b[39minputs,\n\u001b[0;32m    520\u001b[0m     )\n\u001b[1;32m--> 521\u001b[0m \u001b[43mtorch\u001b[49m\u001b[38;5;241;43m.\u001b[39;49m\u001b[43mautograd\u001b[49m\u001b[38;5;241;43m.\u001b[39;49m\u001b[43mbackward\u001b[49m\u001b[43m(\u001b[49m\n\u001b[0;32m    522\u001b[0m \u001b[43m    \u001b[49m\u001b[38;5;28;43mself\u001b[39;49m\u001b[43m,\u001b[49m\u001b[43m \u001b[49m\u001b[43mgradient\u001b[49m\u001b[43m,\u001b[49m\u001b[43m \u001b[49m\u001b[43mretain_graph\u001b[49m\u001b[43m,\u001b[49m\u001b[43m \u001b[49m\u001b[43mcreate_graph\u001b[49m\u001b[43m,\u001b[49m\u001b[43m \u001b[49m\u001b[43minputs\u001b[49m\u001b[38;5;241;43m=\u001b[39;49m\u001b[43minputs\u001b[49m\n\u001b[0;32m    523\u001b[0m \u001b[43m\u001b[49m\u001b[43m)\u001b[49m\n",
            "File \u001b[1;32mc:\\Users\\Shiva\\AppData\\Local\\Programs\\Python\\Python310\\lib\\site-packages\\torch\\autograd\\__init__.py:289\u001b[0m, in \u001b[0;36mbackward\u001b[1;34m(tensors, grad_tensors, retain_graph, create_graph, grad_variables, inputs)\u001b[0m\n\u001b[0;32m    284\u001b[0m     retain_graph \u001b[38;5;241m=\u001b[39m create_graph\n\u001b[0;32m    286\u001b[0m \u001b[38;5;66;03m# The reason we repeat the same comment below is that\u001b[39;00m\n\u001b[0;32m    287\u001b[0m \u001b[38;5;66;03m# some Python versions print out the first line of a multi-line function\u001b[39;00m\n\u001b[0;32m    288\u001b[0m \u001b[38;5;66;03m# calls in the traceback and some print out the last line\u001b[39;00m\n\u001b[1;32m--> 289\u001b[0m \u001b[43m_engine_run_backward\u001b[49m\u001b[43m(\u001b[49m\n\u001b[0;32m    290\u001b[0m \u001b[43m    \u001b[49m\u001b[43mtensors\u001b[49m\u001b[43m,\u001b[49m\n\u001b[0;32m    291\u001b[0m \u001b[43m    \u001b[49m\u001b[43mgrad_tensors_\u001b[49m\u001b[43m,\u001b[49m\n\u001b[0;32m    292\u001b[0m \u001b[43m    \u001b[49m\u001b[43mretain_graph\u001b[49m\u001b[43m,\u001b[49m\n\u001b[0;32m    293\u001b[0m \u001b[43m    \u001b[49m\u001b[43mcreate_graph\u001b[49m\u001b[43m,\u001b[49m\n\u001b[0;32m    294\u001b[0m \u001b[43m    \u001b[49m\u001b[43minputs\u001b[49m\u001b[43m,\u001b[49m\n\u001b[0;32m    295\u001b[0m \u001b[43m    \u001b[49m\u001b[43mallow_unreachable\u001b[49m\u001b[38;5;241;43m=\u001b[39;49m\u001b[38;5;28;43;01mTrue\u001b[39;49;00m\u001b[43m,\u001b[49m\n\u001b[0;32m    296\u001b[0m \u001b[43m    \u001b[49m\u001b[43maccumulate_grad\u001b[49m\u001b[38;5;241;43m=\u001b[39;49m\u001b[38;5;28;43;01mTrue\u001b[39;49;00m\u001b[43m,\u001b[49m\n\u001b[0;32m    297\u001b[0m \u001b[43m\u001b[49m\u001b[43m)\u001b[49m\n",
            "File \u001b[1;32mc:\\Users\\Shiva\\AppData\\Local\\Programs\\Python\\Python310\\lib\\site-packages\\torch\\autograd\\graph.py:769\u001b[0m, in \u001b[0;36m_engine_run_backward\u001b[1;34m(t_outputs, *args, **kwargs)\u001b[0m\n\u001b[0;32m    767\u001b[0m     unregister_hooks \u001b[38;5;241m=\u001b[39m _register_logging_hooks_on_whole_graph(t_outputs)\n\u001b[0;32m    768\u001b[0m \u001b[38;5;28;01mtry\u001b[39;00m:\n\u001b[1;32m--> 769\u001b[0m     \u001b[38;5;28;01mreturn\u001b[39;00m Variable\u001b[38;5;241m.\u001b[39m_execution_engine\u001b[38;5;241m.\u001b[39mrun_backward(  \u001b[38;5;66;03m# Calls into the C++ engine to run the backward pass\u001b[39;00m\n\u001b[0;32m    770\u001b[0m         t_outputs, \u001b[38;5;241m*\u001b[39margs, \u001b[38;5;241m*\u001b[39m\u001b[38;5;241m*\u001b[39mkwargs\n\u001b[0;32m    771\u001b[0m     )  \u001b[38;5;66;03m# Calls into the C++ engine to run the backward pass\u001b[39;00m\n\u001b[0;32m    772\u001b[0m \u001b[38;5;28;01mfinally\u001b[39;00m:\n\u001b[0;32m    773\u001b[0m     \u001b[38;5;28;01mif\u001b[39;00m attach_logging_hooks:\n",
            "\u001b[1;31mKeyboardInterrupt\u001b[0m: "
          ]
        }
      ],
      "source": [
        "import time\n",
        "# for model_key, model_z in allmodels.items():\n",
        "# block_size, emb_dim = map(int, model_key.split('_'))\n",
        "X,Y = generate_X_Y(para,block_size)\n",
        "loss_fn = nn.CrossEntropyLoss()\n",
        "opt = torch.optim.AdamW(model.parameters(), lr=0.01)\n",
        "# Mini-batch training\n",
        "batch_size = 4096\n",
        "print_every = 100\n",
        "elapsed_time = []\n",
        "# print(block_size,\" \",emb_dim)\n",
        "epochs = 500\n",
        "for epoch in range(epochs):\n",
        "    start_time = time.time()\n",
        "    for i in range(0, X.shape[0], batch_size):\n",
        "        x = X[i:i+batch_size]\n",
        "        y = Y[i:i+batch_size]\n",
        "        y_pred = model(x)\n",
        "        loss = loss_fn(y_pred, y)\n",
        "        loss.backward()\n",
        "        opt.step()\n",
        "        opt.zero_grad()\n",
        "    end_time = time.time()\n",
        "    elapsed_time.append(end_time - start_time)\n",
        "    if epoch % print_every == 0:\n",
        "        print(epoch, loss.item())\n"
      ]
    },
    {
      "cell_type": "code",
      "execution_count": 47,
      "metadata": {
        "colab": {
          "base_uri": "https://localhost:8080/"
        },
        "id": "1HwPuoSGv1wz",
        "outputId": "463fc151-d5d5-4b75-9c4e-079e3befb137"
      },
      "outputs": [
        {
          "name": "stdout",
          "output_type": "stream",
          "text": [
            "Model saved to /content/drive/MyDrive/model_64_5_relu.pth\n"
          ]
        }
      ],
      "source": [
        "# Path to save the model in your Drive\n",
        "model_path = f'/content/drive/MyDrive/model_{emb_dim}_{block_size}_relu.pth'\n",
        "\n",
        "# Save the state dictionary\n",
        "torch.save(model.state_dict(), model_path)\n",
        "\n",
        "print(f\"Model saved to {model_path}\")\n"
      ]
    },
    {
      "cell_type": "code",
      "execution_count": 48,
      "metadata": {
        "colab": {
          "base_uri": "https://localhost:8080/"
        },
        "id": "35AwA2x9xTkK",
        "outputId": "4e3cfa24-e4a7-469b-e753-705863ba9194"
      },
      "outputs": [
        {
          "name": "stderr",
          "output_type": "stream",
          "text": [
            "<ipython-input-48-fb11221b7880>:5: FutureWarning: You are using `torch.load` with `weights_only=False` (the current default value), which uses the default pickle module implicitly. It is possible to construct malicious pickle data which will execute arbitrary code during unpickling (See https://github.com/pytorch/pytorch/blob/main/SECURITY.md#untrusted-models for more details). In a future release, the default value for `weights_only` will be flipped to `True`. This limits the functions that could be executed during unpickling. Arbitrary objects will no longer be allowed to be loaded via this mode unless they are explicitly allowlisted by the user via `torch.serialization.add_safe_globals`. We recommend you start setting `weights_only=True` for any use case where you don't have full control of the loaded file. Please open an issue on GitHub for any issues related to this experimental feature.\n",
            "  loaded_model.load_state_dict(torch.load(model_path, map_location=device))\n"
          ]
        },
        {
          "data": {
            "text/plain": [
              "<All keys matched successfully>"
            ]
          },
          "execution_count": 48,
          "metadata": {},
          "output_type": "execute_result"
        }
      ],
      "source": [
        "loaded_model = NextWord(block_size, vocab_size, emb_dim, hidden_size).to(device)\n",
        "\n",
        "# Load the state dictionary from the file in Google Drive\n",
        "# model_path = '/content/drive/MyDrive/next_word_model.pth'\n",
        "loaded_model.load_state_dict(torch.load(model_path, map_location=device))\n"
      ]
    },
    {
      "cell_type": "code",
      "execution_count": 56,
      "metadata": {
        "colab": {
          "base_uri": "https://localhost:8080/"
        },
        "id": "YUfM4Lu7xjj7",
        "outputId": "3559b50c-2c0c-46f6-f0ff-4740e2767a95"
      },
      "outputs": [
        {
          "name": "stdout",
          "output_type": "stream",
          "text": [
            " opal entered the sight sound mr. of them on church closed that evening\n"
          ]
        }
      ],
      "source": [
        "print(generate_para(model,Vocabulary,block_size))"
      ]
    },
    {
      "cell_type": "code",
      "execution_count": 57,
      "metadata": {
        "colab": {
          "base_uri": "https://localhost:8080/"
        },
        "id": "0-94zHQNxwap",
        "outputId": "48a928b2-596c-4e0a-b15e-a06bb17a0ff5"
      },
      "outputs": [
        {
          "name": "stdout",
          "output_type": "stream",
          "text": [
            " i can that a stumbled protruding lestrade at through hand to do a large hundred\n"
          ]
        }
      ],
      "source": [
        "print(generate_para(loaded_model,Vocabulary,block_size))"
      ]
    },
    {
      "cell_type": "code",
      "execution_count": 50,
      "metadata": {
        "id": "WsjIZ32ex0kF"
      },
      "outputs": [],
      "source": []
    }
  ],
  "metadata": {
    "accelerator": "GPU",
    "colab": {
      "gpuType": "T4",
      "provenance": []
    },
    "kernelspec": {
      "display_name": "Python 3",
      "name": "python3"
    },
    "language_info": {
      "codemirror_mode": {
        "name": "ipython",
        "version": 3
      },
      "file_extension": ".py",
      "mimetype": "text/x-python",
      "name": "python",
      "nbconvert_exporter": "python",
      "pygments_lexer": "ipython3",
      "version": "3.10.6"
    }
  },
  "nbformat": 4,
  "nbformat_minor": 0
}
