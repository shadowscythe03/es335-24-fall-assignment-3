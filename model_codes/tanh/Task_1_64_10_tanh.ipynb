{
  "cells": [
    {
      "cell_type": "code",
      "execution_count": 21,
      "metadata": {
        "colab": {
          "base_uri": "https://localhost:8080/"
        },
        "id": "Rnd08zzRHwRo",
        "outputId": "1d5c1c09-d567-41bd-fd08-f8d655a43efc"
      },
      "outputs": [
        {
          "name": "stdout",
          "output_type": "stream",
          "text": [
            "Drive already mounted at /content/drive; to attempt to forcibly remount, call drive.mount(\"/content/drive\", force_remount=True).\n"
          ]
        }
      ],
      "source": [
        "from google.colab import drive\n",
        "drive.mount('/content/drive')"
      ]
    },
    {
      "cell_type": "code",
      "execution_count": 22,
      "metadata": {
        "colab": {
          "base_uri": "https://localhost:8080/"
        },
        "id": "6RDRN_-nY1zK",
        "outputId": "726bfc26-202b-4899-9783-017ae8211271"
      },
      "outputs": [
        {
          "name": "stdout",
          "output_type": "stream",
          "text": [
            "Requirement already satisfied: torch in /usr/local/lib/python3.10/dist-packages (2.5.0+cu121)\n",
            "Requirement already satisfied: filelock in /usr/local/lib/python3.10/dist-packages (from torch) (3.16.1)\n",
            "Requirement already satisfied: typing-extensions>=4.8.0 in /usr/local/lib/python3.10/dist-packages (from torch) (4.12.2)\n",
            "Requirement already satisfied: networkx in /usr/local/lib/python3.10/dist-packages (from torch) (3.4.2)\n",
            "Requirement already satisfied: jinja2 in /usr/local/lib/python3.10/dist-packages (from torch) (3.1.4)\n",
            "Requirement already satisfied: fsspec in /usr/local/lib/python3.10/dist-packages (from torch) (2024.6.1)\n",
            "Requirement already satisfied: sympy==1.13.1 in /usr/local/lib/python3.10/dist-packages (from torch) (1.13.1)\n",
            "Requirement already satisfied: mpmath<1.4,>=1.1.0 in /usr/local/lib/python3.10/dist-packages (from sympy==1.13.1->torch) (1.3.0)\n",
            "Requirement already satisfied: MarkupSafe>=2.0 in /usr/local/lib/python3.10/dist-packages (from jinja2->torch) (3.0.2)\n"
          ]
        }
      ],
      "source": [
        "import os\n",
        "import re\n",
        "!pip install torch #installing the module\n",
        "import torch\n",
        "import torch.nn.functional as F\n",
        "from torch import nn\n",
        "import pandas as pd\n",
        "import matplotlib.pyplot as plt # for making figures\n",
        "%matplotlib inline\n",
        "%config InlineBackend.figure_format = 'retina'\n",
        "from pprint import pprint"
      ]
    },
    {
      "cell_type": "code",
      "execution_count": 22,
      "metadata": {
        "id": "yH94S_b8vZvf"
      },
      "outputs": [],
      "source": []
    },
    {
      "cell_type": "code",
      "execution_count": 23,
      "metadata": {
        "id": "U8KTyavfY1zL"
      },
      "outputs": [],
      "source": [
        "device = torch.device(\"cuda\" if torch.cuda.is_available() else \"cpu\")"
      ]
    },
    {
      "cell_type": "code",
      "execution_count": 24,
      "metadata": {
        "colab": {
          "base_uri": "https://localhost:8080/"
        },
        "id": "0lYGqdvNY1zL",
        "outputId": "c4eb4a23-0599-49ac-a9bf-3f3a5f5d39eb"
      },
      "outputs": [
        {
          "data": {
            "text/plain": [
              "device(type='cuda')"
            ]
          },
          "execution_count": 24,
          "metadata": {},
          "output_type": "execute_result"
        }
      ],
      "source": [
        "device"
      ]
    },
    {
      "cell_type": "code",
      "execution_count": 25,
      "metadata": {
        "id": "bqGRxwmnY1zM"
      },
      "outputs": [],
      "source": [
        "# folder_path = r'./Taylor-Swift-Songs'\n",
        "\n",
        "# # Loop through all files in the folder\n",
        "# songs = []\n",
        "\n",
        "# for file_name in os.listdir(folder_path):\n",
        "#     if file_name.endswith('.txt'):  # Check if the file is a .txt file\n",
        "#         file_path = os.path.join(folder_path, file_name)\n",
        "#         # Open and read the file\n",
        "\n",
        "#         with open(file_path, 'r', encoding='utf-8') as file:\n",
        "\n",
        "#             file_content = file.read()\n",
        "#             songs.append(file_content)\n"
      ]
    },
    {
      "cell_type": "code",
      "execution_count": 26,
      "metadata": {
        "colab": {
          "base_uri": "https://localhost:8080/"
        },
        "id": "GObPeK5vY1zM",
        "outputId": "e4e22f3a-6ff3-4db5-98b4-4334cd0e1526"
      },
      "outputs": [
        {
          "name": "stdout",
          "output_type": "stream",
          "text": [
            "\n",
            "Length of para list: 2605\n"
          ]
        }
      ],
      "source": [
        "import requests\n",
        "\n",
        "# URL of the text file\n",
        "url_2 = \"https://www.gutenberg.org/files/1661/1661-0.txt\"\n",
        "\n",
        "# Send a GET request to fetch the content\n",
        "response = requests.get(url_2)\n",
        "\n",
        "# Check if the request was successful\n",
        "if response.status_code == 200:\n",
        "    # Read the entire content of the file\n",
        "    content = response.text\n",
        "\n",
        "    # Remove the BOM if it exists\n",
        "    content = content.replace('\\ufeff', '')  # Remove BOM character\n",
        "\n",
        "    # Split the content into paragraphs by using '\\r\\n\\r\\n'\n",
        "    paragraphs = content.split('\\r\\n\\r\\n')\n",
        "\n",
        "    # Initialize para list\n",
        "    para = []\n",
        "\n",
        "    # Store paragraphs in the para list\n",
        "    for paragraph in paragraphs:\n",
        "        cleaned_paragraph = paragraph.strip()\n",
        "        if cleaned_paragraph:  # Only add non-empty paragraphs\n",
        "            para.append(cleaned_paragraph)\n",
        "\n",
        "    # Print the length of the para list\n",
        "    print(f\"\\nLength of para list: {len(para)}\")\n",
        "\n",
        "    # # Optional: Print the first few paragraphs to verify\n",
        "    # for i in range(min(5, len(para))):  # Print the first 5 paragraphs\n",
        "    #     print(f\"\\nParagraph {i + 1}:\\n{para[i]}\\n\")\n",
        "else:\n",
        "    print(f\"Failed to fetch the file. Status code: {response.status_code}\")"
      ]
    },
    {
      "cell_type": "code",
      "execution_count": 27,
      "metadata": {
        "colab": {
          "base_uri": "https://localhost:8080/",
          "height": 35
        },
        "id": "oagoolbRY1zN",
        "outputId": "13b89dc5-5110-46c7-efb2-9b9320c38542"
      },
      "outputs": [
        {
          "data": {
            "application/vnd.google.colaboratory.intrinsic+json": {
              "type": "string"
            },
            "text/plain": [
              "'The Project Gutenberg eBook of The Adventures of Sherlock Holmes,\\r\\nby Arthur Conan Doyle'"
            ]
          },
          "execution_count": 27,
          "metadata": {},
          "output_type": "execute_result"
        }
      ],
      "source": [
        "para[0]"
      ]
    },
    {
      "cell_type": "code",
      "execution_count": 28,
      "metadata": {
        "id": "WGqyuRXyY1zN"
      },
      "outputs": [],
      "source": [
        "# Removing the first line in the song\n",
        "# Replacing the '\\n' with '<NEWLINE> token'\n",
        "\n",
        "unique_words = set()\n",
        "for i in range(len(para)):\n",
        "    lines = para[i].splitlines()\n",
        "    for j in range(len(lines)):\n",
        "        # print(j,lines[j])\n",
        "        lines[j] = re.sub(r'[^a-zA-Z0-9 \\.]', '', lines[j])\n",
        "        lines[j] = lines[j].lower()\n",
        "    para[i] = \" \".join(lines[1:])\n",
        "    song_unique_words = set(word.lower() for word in para[i].split())\n",
        "    unique_words.update(song_unique_words)\n",
        "\n",
        "    # print(len(song_unique_words))\n",
        "    unique_words.update(\".\")\n"
      ]
    },
    {
      "cell_type": "code",
      "execution_count": 29,
      "metadata": {
        "colab": {
          "base_uri": "https://localhost:8080/"
        },
        "id": "R-hWtXNBY1zN",
        "outputId": "7d49a2ed-f542-4cf7-8dab-95b1c6d6a1bd"
      },
      "outputs": [
        {
          "data": {
            "text/plain": [
              "9358"
            ]
          },
          "execution_count": 29,
          "metadata": {},
          "output_type": "execute_result"
        }
      ],
      "source": [
        "\n",
        "sorted_unique_words = sorted(unique_words)\n",
        "Vocabulary = {word : index for index, word in enumerate(sorted_unique_words)}\n",
        "iVocabulary = {index: word for index, word in enumerate(sorted_unique_words)}\n",
        "len(Vocabulary)"
      ]
    },
    {
      "cell_type": "code",
      "execution_count": 30,
      "metadata": {
        "colab": {
          "base_uri": "https://localhost:8080/"
        },
        "id": "0XKuXrUTY1zN",
        "outputId": "385290af-9e3a-4190-fc01-a476f67c9d3b"
      },
      "outputs": [
        {
          "data": {
            "text/plain": [
              "2605"
            ]
          },
          "execution_count": 30,
          "metadata": {},
          "output_type": "execute_result"
        }
      ],
      "source": [
        "len(para)"
      ]
    },
    {
      "cell_type": "code",
      "execution_count": 31,
      "metadata": {
        "colab": {
          "base_uri": "https://localhost:8080/",
          "height": 70
        },
        "id": "U2ZmQGOgY1zN",
        "outputId": "d01863a8-5469-4373-efe0-aaef90df1e15"
      },
      "outputs": [
        {
          "data": {
            "application/vnd.google.colaboratory.intrinsic+json": {
              "type": "string"
            },
            "text/plain": [
              "'most other parts of the world at no cost and with almost no restrictions whatsoever. you may copy it give it away or reuse it under the terms of the project gutenberg license included with this ebook or online at www.gutenberg.org. if you are not located in the united states you will have to check the laws of the country where you are located before using this ebook.'"
            ]
          },
          "execution_count": 31,
          "metadata": {},
          "output_type": "execute_result"
        }
      ],
      "source": [
        "para[1]"
      ]
    },
    {
      "cell_type": "code",
      "execution_count": 32,
      "metadata": {
        "id": "Pwwc25g2Y1zN"
      },
      "outputs": [],
      "source": [
        "def generate_X_Y(para,block_size):\n",
        "\n",
        "   # context length: how many characters do we take to predict the next one?\n",
        "  X, Y = [], []\n",
        "\n",
        "  for paragraph in para:\n",
        "\n",
        "    # print(song)\n",
        "    context = [0] * block_size\n",
        "    p = paragraph.split(' ')\n",
        "    for word in p + ['.']:\n",
        "      if word == '':\n",
        "        continue\n",
        "      # print(word)\n",
        "      ix = Vocabulary[word]\n",
        "      X.append(context)\n",
        "      Y.append(ix)\n",
        "      # print(' '.join('.' if not i else iVocabulary[i] for i in context), '--->', iVocabulary[ix])\n",
        "      context = context[1:] + [ix] # crop and append\n",
        "\n",
        "  # Move data to GPU\n",
        "\n",
        "  X = torch.tensor(X).to(device)\n",
        "  Y = torch.tensor(Y).to(device)\n",
        "\n",
        "  return X,Y"
      ]
    },
    {
      "cell_type": "code",
      "execution_count": 33,
      "metadata": {
        "id": "r5aO7H7JY1zO"
      },
      "outputs": [],
      "source": [
        "emb_dim = 64\n",
        "emb = torch.nn.Embedding(len(Vocabulary), emb_dim)"
      ]
    },
    {
      "cell_type": "code",
      "execution_count": 34,
      "metadata": {
        "colab": {
          "base_uri": "https://localhost:8080/"
        },
        "id": "DYaJ86utY1zO",
        "outputId": "606399a8-ce12-458d-c14d-5fcdbf446f1b"
      },
      "outputs": [
        {
          "data": {
            "text/plain": [
              "Parameter containing:\n",
              "tensor([[-0.0316, -0.0171,  1.9876,  ...,  1.2887, -0.2278, -0.2542],\n",
              "        [-0.7556, -0.4290, -0.4336,  ...,  0.4125,  0.2191, -0.0290],\n",
              "        [ 0.9970, -2.0135, -1.0426,  ..., -1.0711,  0.1652, -0.1206],\n",
              "        ...,\n",
              "        [ 0.2023, -1.1743,  0.5159,  ...,  1.0025,  0.2176,  1.1618],\n",
              "        [-1.6934,  0.1983,  0.2380,  ..., -1.9135, -1.5598,  0.0397],\n",
              "        [-0.5873,  0.0265, -0.6669,  ..., -0.4848, -0.8360, -1.3612]],\n",
              "       requires_grad=True)"
            ]
          },
          "execution_count": 34,
          "metadata": {},
          "output_type": "execute_result"
        }
      ],
      "source": [
        "emb.weight"
      ]
    },
    {
      "cell_type": "code",
      "execution_count": 35,
      "metadata": {
        "colab": {
          "base_uri": "https://localhost:8080/"
        },
        "id": "evH4OgWoY1zO",
        "outputId": "bab720c6-f461-4aab-e3a9-1460374e515b"
      },
      "outputs": [
        {
          "data": {
            "text/plain": [
              "torch.Size([9358, 128])"
            ]
          },
          "execution_count": 35,
          "metadata": {},
          "output_type": "execute_result"
        }
      ],
      "source": [
        "emb.weight.shape"
      ]
    },
    {
      "cell_type": "code",
      "execution_count": 36,
      "metadata": {
        "id": "4Mnp_ET6Y1zO"
      },
      "outputs": [],
      "source": [
        "class NextWord(nn.Module):\n",
        "    def __init__(self,block_size,vocab_size,emb_dim,hidden_size):\n",
        "        super().__init__()\n",
        "        self.emb = nn.Embedding(vocab_size,emb_dim)\n",
        "        self.lin1 = nn.Linear(block_size*emb_dim,hidden_size)\n",
        "        self.lin2 = nn.Linear(hidden_size,vocab_size)\n",
        "        self.tanh = nn.Tanh()\n",
        "\n",
        "    def forward(self, x):\n",
        "        x = self.emb(x)\n",
        "        x = x.view(x.shape[0],-1)\n",
        "        x = self.tanh(self.lin1(x))\n",
        "        x = self.lin2(x)\n",
        "        return x"
      ]
    },
    {
      "cell_type": "code",
      "execution_count": 37,
      "metadata": {
        "id": "WYPFEU3tEgh9"
      },
      "outputs": [],
      "source": [
        "block_size = 10\n",
        "vocab_size = len(Vocabulary)\n",
        "emb_dim = 64\n",
        "hidden_size = 1024"
      ]
    },
    {
      "cell_type": "code",
      "execution_count": 38,
      "metadata": {
        "id": "S5kFPR-TY1zO"
      },
      "outputs": [],
      "source": [
        "\n",
        "def generate_para(model,Vocabulary,block_size,max_len=30):\n",
        "    context = [0]*block_size\n",
        "    new_para  = ''\n",
        "    for i in range(max_len):\n",
        "        x = torch.tensor(context).view(1,-1).to(device)\n",
        "        y_pred = model(x)\n",
        "        ix = torch.distributions.categorical.Categorical(logits=y_pred).sample().item()\n",
        "        word = iVocabulary[ix]\n",
        "        if word == '.':\n",
        "            break\n",
        "        new_para = new_para + \" \"+word\n",
        "        context =context[1:]+[ix]\n",
        "    return new_para\n",
        "\n"
      ]
    },
    {
      "cell_type": "code",
      "execution_count": 39,
      "metadata": {
        "id": "BFf3EwoJEixF"
      },
      "outputs": [],
      "source": [
        "def models(block_size,vocab_size,emb_dim,hidden_size):\n",
        "    model = NextWord(block_size,vocab_size,emb_dim,hidden_size).to(device)\n",
        "    return model\n",
        "\n",
        "# model = torch.compile(model)\n",
        "\n"
      ]
    },
    {
      "cell_type": "code",
      "execution_count": 40,
      "metadata": {
        "id": "EbeWEGL8FXtH"
      },
      "outputs": [],
      "source": [
        "# allmodels = {}\n",
        "# for emdDim in [64,128]:\n",
        "#   for context_len in [4,8,10,45]:\n",
        "#     m = models(context_len,len(Vocabulary),emdDim,1024,para)\n",
        "#     allmodels[str(context_len)+\"_\"+str(emdDim)] = m\n",
        "\n",
        "\n",
        "\n",
        "model = models(block_size,len(Vocabulary),emb_dim,hidden_size)"
      ]
    },
    {
      "cell_type": "code",
      "execution_count": null,
      "metadata": {
        "colab": {
          "base_uri": "https://localhost:8080/"
        },
        "id": "VnfyHN23G7ME",
        "outputId": "ab18eb1f-9d2e-4418-f3f1-00668229d13a"
      },
      "outputs": [
        {
          "name": "stdout",
          "output_type": "stream",
          "text": [
            "0 8.168356895446777\n",
            "100 0.15073226392269135\n"
          ]
        }
      ],
      "source": [
        "import time\n",
        "# for model_key, model_z in allmodels.items():\n",
        "# block_size, emb_dim = map(int, model_key.split('_'))\n",
        "X,Y = generate_X_Y(para,block_size)\n",
        "loss_fn = nn.CrossEntropyLoss()\n",
        "opt = torch.optim.AdamW(model.parameters(), lr=0.01)\n",
        "# Mini-batch training\n",
        "batch_size = 512\n",
        "print_every = 100\n",
        "elapsed_time = []\n",
        "# print(block_size,\" \",emb_dim)\n",
        "epochs = 1000\n",
        "for epoch in range(epochs):\n",
        "    start_time = time.time()\n",
        "    for i in range(0, X.shape[0], batch_size):\n",
        "        x = X[i:i+batch_size]\n",
        "        y = Y[i:i+batch_size]\n",
        "        y_pred = model(x)\n",
        "        loss = loss_fn(y_pred, y)\n",
        "        loss.backward()\n",
        "        opt.step()\n",
        "        opt.zero_grad()\n",
        "    end_time = time.time()\n",
        "    elapsed_time.append(end_time - start_time)\n",
        "    if epoch % print_every == 0:\n",
        "        print(epoch, loss.item())\n"
      ]
    },
    {
      "cell_type": "code",
      "execution_count": null,
      "metadata": {
        "id": "KBy1wJ19lOFV"
      },
      "outputs": [],
      "source": [
        "# Path to save the model in your Drive\n",
        "model_path = f'/content/drive/MyDrive/model_{emb_dim}_{block_size}_tanh.pth'\n",
        "\n",
        "# Save the state dictionary\n",
        "torch.save(model.state_dict(), model_path)\n",
        "\n",
        "print(f\"Model saved to {model_path}\")"
      ]
    },
    {
      "cell_type": "code",
      "execution_count": null,
      "metadata": {
        "id": "9NDfAihgyJ7I"
      },
      "outputs": [],
      "source": [
        "loaded_model = NextWord(block_size, vocab_size, emb_dim, hidden_size).to(device)\n",
        "\n",
        "# Load the state dictionary from the file in Google Drive\n",
        "# model_path = '/content/drive/MyDrive/model_64_10.pth'\n",
        "loaded_model.load_state_dict(torch.load(model_path, map_location=device))"
      ]
    },
    {
      "cell_type": "code",
      "execution_count": null,
      "metadata": {
        "id": "-wX6nlOgyPcO"
      },
      "outputs": [],
      "source": [
        "print(generate_para(model,Vocabulary,block_size))"
      ]
    },
    {
      "cell_type": "code",
      "execution_count": null,
      "metadata": {
        "id": "va1aGEuPyTgC"
      },
      "outputs": [],
      "source": [
        "print(generate_para(loaded_model,Vocabulary,block_size))"
      ]
    }
  ],
  "metadata": {
    "accelerator": "GPU",
    "colab": {
      "gpuType": "T4",
      "provenance": []
    },
    "kernelspec": {
      "display_name": "Python 3",
      "name": "python3"
    },
    "language_info": {
      "codemirror_mode": {
        "name": "ipython",
        "version": 3
      },
      "file_extension": ".py",
      "mimetype": "text/x-python",
      "name": "python",
      "nbconvert_exporter": "python",
      "pygments_lexer": "ipython3",
      "version": "3.10.6"
    }
  },
  "nbformat": 4,
  "nbformat_minor": 0
}
