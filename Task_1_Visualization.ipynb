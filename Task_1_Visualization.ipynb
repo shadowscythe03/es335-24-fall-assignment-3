{
 "cells": [
  {
   "cell_type": "code",
   "execution_count": 2,
   "metadata": {},
   "outputs": [],
   "source": [
    "import os\n",
    "import re\n",
    "# !pip install torch #installing the module\n",
    "import torch\n",
    "import torch.nn.functional as F\n",
    "from torch import nn\n",
    "import pandas as pd\n",
    "import matplotlib.pyplot as plt # for making figures\n",
    "%matplotlib inline\n",
    "%config InlineBackend.figure_format = 'retina'\n",
    "from pprint import pprint"
   ]
  },
  {
   "cell_type": "code",
   "execution_count": null,
   "metadata": {},
   "outputs": [],
   "source": []
  },
  {
   "cell_type": "code",
   "execution_count": 3,
   "metadata": {},
   "outputs": [
    {
     "ename": "NameError",
     "evalue": "name 'Vocabulary' is not defined",
     "output_type": "error",
     "traceback": [
      "\u001b[1;31m---------------------------------------------------------------------------\u001b[0m",
      "\u001b[1;31mNameError\u001b[0m                                 Traceback (most recent call last)",
      "Cell \u001b[1;32mIn[3], line 23\u001b[0m\n\u001b[0;32m     21\u001b[0m \u001b[38;5;66;03m# Load the model\u001b[39;00m\n\u001b[0;32m     22\u001b[0m block_size \u001b[38;5;241m=\u001b[39m \u001b[38;5;241m5\u001b[39m  \u001b[38;5;66;03m# Same as used during model creation\u001b[39;00m\n\u001b[1;32m---> 23\u001b[0m vocab_size \u001b[38;5;241m=\u001b[39m \u001b[38;5;28mlen\u001b[39m(\u001b[43mVocabulary\u001b[49m)  \u001b[38;5;66;03m# Vocabulary size from your data\u001b[39;00m\n\u001b[0;32m     24\u001b[0m emb_dim \u001b[38;5;241m=\u001b[39m \u001b[38;5;241m64\u001b[39m  \u001b[38;5;66;03m# Should match the embedding dimension used\u001b[39;00m\n\u001b[0;32m     25\u001b[0m hidden_size \u001b[38;5;241m=\u001b[39m \u001b[38;5;241m1024\u001b[39m  \u001b[38;5;66;03m# Should match the hidden layer size used\u001b[39;00m\n",
      "\u001b[1;31mNameError\u001b[0m: name 'Vocabulary' is not defined"
     ]
    }
   ],
   "source": [
    "import torch\n",
    "import matplotlib.pyplot as plt\n",
    "from sklearn.manifold import TSNE\n",
    "\n",
    "# Assuming the model class is defined as in your earlier code\n",
    "class NextWord(nn.Module):\n",
    "    def __init__(self, block_size, vocab_size, emb_dim, hidden_size):\n",
    "        super().__init__()\n",
    "        self.emb = nn.Embedding(vocab_size, emb_dim)\n",
    "        self.lin1 = nn.Linear(block_size * emb_dim, hidden_size)\n",
    "        self.lin2 = nn.Linear(hidden_size, vocab_size)\n",
    "        self.relu = nn.ReLU()\n",
    "\n",
    "    def forward(self, x):\n",
    "        x = self.emb(x)\n",
    "        x = x.view(x.shape[0], -1)\n",
    "        x = self.relu(self.lin1(x))\n",
    "        x = self.lin2(x)\n",
    "        return x\n",
    "\n",
    "# Load the model\n",
    "block_size = 5  # Same as used during model creation\n",
    "vocab_size = len(Vocabulary)  # Vocabulary size from your data\n",
    "emb_dim = 64  # Should match the embedding dimension used\n",
    "hidden_size = 1024  # Should match the hidden layer size used\n",
    "\n",
    "loaded_model = NextWord(block_size, vocab_size, emb_dim, hidden_size)\n",
    "loaded_model.load_state_dict(torch.load('model_64_5_relu.pth', map_location='cpu'))  # Change the path if necessary\n",
    "\n",
    "# Get the embedding layer\n",
    "emb = loaded_model.emb\n",
    "\n",
    "# Sample words to visualize\n",
    "sample_words = ['king', 'queen', 'woman', 'man']\n",
    "\n",
    "# Extract embeddings for these words\n",
    "sample_embeddings = torch.stack([emb(torch.tensor(Vocabulary[word])).detach() for word in sample_words]).numpy()\n",
    "\n",
    "# Apply t-SNE to reduce embeddings to 2D with a lower perplexity\n",
    "tsne = TSNE(n_components=2, perplexity=2, random_state=42)\n",
    "embeddings_2d = tsne.fit_transform(sample_embeddings)\n",
    "\n",
    "# Plot the t-SNE results\n",
    "plt.figure(figsize=(8, 6))\n",
    "\n",
    "# Plot each word as a point in 2D space\n",
    "for i, word in enumerate(sample_words):\n",
    "    plt.scatter(embeddings_2d[i, 0], embeddings_2d[i, 1])\n",
    "    plt.text(embeddings_2d[i, 0] + 0.1, embeddings_2d[i, 1] + 0.1, word, fontsize=12)\n",
    "\n",
    "plt.title(\"t-SNE Visualization of Word Embeddings\")\n",
    "plt.xlabel(\"t-SNE Dimension 1\")\n",
    "plt.ylabel(\"t-SNE Dimension 2\")\n",
    "plt.grid(True)\n",
    "plt.show()\n"
   ]
  },
  {
   "cell_type": "code",
   "execution_count": null,
   "metadata": {},
   "outputs": [],
   "source": []
  }
 ],
 "metadata": {
  "kernelspec": {
   "display_name": "Python 3",
   "language": "python",
   "name": "python3"
  },
  "language_info": {
   "codemirror_mode": {
    "name": "ipython",
    "version": 3
   },
   "file_extension": ".py",
   "mimetype": "text/x-python",
   "name": "python",
   "nbconvert_exporter": "python",
   "pygments_lexer": "ipython3",
   "version": "3.10.6"
  }
 },
 "nbformat": 4,
 "nbformat_minor": 2
}
